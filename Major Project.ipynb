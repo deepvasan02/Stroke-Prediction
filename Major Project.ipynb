{
  "cells": [
    {
      "cell_type": "markdown",
      "metadata": {
        "id": "r3tGS9okHKBW"
      },
      "source": [
        "#**Pattern Recognition and Machine Learning (CSN2050) - 2022**\n",
        "##**Major Project**\n",
        "\n",
        "###**Stroke Prediction using Machine Learning**\n",
        "\n",
        "### Dataset link: \n",
        "https://www.kaggle.com/datasets/fedesoriano/stroke-prediction-dataset\n"
      ]
    },
    {
      "cell_type": "code",
      "execution_count": 2,
      "metadata": {
        "id": "ghmdQ8KV7qwS"
      },
      "outputs": [],
      "source": [
        "# To Disable Convergence Warnings (For Custom Training)\n",
        "from warnings import simplefilter\n",
        "from sklearn.exceptions import ConvergenceWarning\n",
        "simplefilter(\"ignore\", category=ConvergenceWarning)"
      ]
    },
    {
      "cell_type": "code",
      "execution_count": 3,
      "metadata": {
        "id": "KizvJhax4Ebc"
      },
      "outputs": [],
      "source": [
        "# Import the necessary libraries\n",
        "import pandas as pd\n",
        "import numpy as np\n",
        "import matplotlib.pyplot as plt \n",
        "import seaborn as sns\n",
        "from scipy.stats import reciprocal, uniform\n",
        "from imblearn.over_sampling import SMOTE\n",
        "from collections import Counter\n",
        "from sklearn.model_selection import train_test_split"
      ]
    },
    {
      "cell_type": "code",
      "execution_count": 4,
      "metadata": {
        "id": "KFcbF_Izpdqe"
      },
      "outputs": [],
      "source": [
        "# Encoder for encoding categorical values \n",
        "from sklearn.preprocessing import LabelEncoder"
      ]
    },
    {
      "cell_type": "code",
      "execution_count": 5,
      "metadata": {
        "id": "fHrGI292ivaX"
      },
      "outputs": [],
      "source": [
        "# Scalers for scaling the dataset\n",
        "from sklearn.preprocessing import MinMaxScaler as MMS\n",
        "from sklearn.preprocessing import StandardScaler as SS"
      ]
    },
    {
      "cell_type": "code",
      "execution_count": 6,
      "metadata": {
        "id": "a-D03BE1piyV"
      },
      "outputs": [],
      "source": [
        "# Metrics for performance evaluation\n",
        "from sklearn.metrics import accuracy_score as accuracy\n",
        "from sklearn.metrics import f1_score as f1score\n",
        "from sklearn.metrics import precision_score as precision\n",
        "from sklearn.metrics import recall_score as recall\n",
        "from sklearn.metrics import confusion_matrix as cm\n",
        "from sklearn.metrics import roc_auc_score\n",
        "from sklearn.metrics import plot_roc_curve"
      ]
    },
    {
      "cell_type": "code",
      "execution_count": 7,
      "metadata": {
        "id": "hXRoNRxYpkyT"
      },
      "outputs": [],
      "source": [
        "# Importing the Classifiers\n",
        "from sklearn.ensemble import RandomForestClassifier as RFC \n",
        "from sklearn.neighbors import KNeighborsClassifier as KNC\n",
        "from sklearn.svm import LinearSVC as SVC\n",
        "from xgboost import XGBClassifier as XGBC\n",
        "from sklearn.neural_network import MLPClassifier as MLPC\n",
        "from sklearn.neighbors import KNeighborsClassifier as KNC"
      ]
    },
    {
      "cell_type": "code",
      "execution_count": 8,
      "metadata": {
        "id": "kE8UOdQJpm3H"
      },
      "outputs": [],
      "source": [
        "# RandomizedSearchCV to find optimal hyperparameters\n",
        "from sklearn.model_selection import RandomizedSearchCV"
      ]
    },
    {
      "cell_type": "markdown",
      "metadata": {
        "id": "0l0Rxp6BS5kw"
      },
      "source": [
        "##**Preprocessing the Dataset**"
      ]
    },
    {
      "cell_type": "code",
      "execution_count": 9,
      "metadata": {
        "id": "cHnMSx2pRFsA"
      },
      "outputs": [],
      "source": [
        "# Reading the dataframe\n",
        "df = pd.read_csv(\"/content/healthcare-dataset-stroke-data.csv\")"
      ]
    },
    {
      "cell_type": "code",
      "execution_count": null,
      "metadata": {
        "colab": {
          "base_uri": "https://localhost:8080/",
          "height": 206
        },
        "id": "bL3EMdRTRORb",
        "outputId": "63bcc3c9-1283-44b3-b03c-40eb4e5c7500"
      },
      "outputs": [
        {
          "data": {
            "text/html": [
              "\n",
              "  <div id=\"df-319dd3ff-5cd7-4191-bbae-cf6ec72f49af\">\n",
              "    <div class=\"colab-df-container\">\n",
              "      <div>\n",
              "<style scoped>\n",
              "    .dataframe tbody tr th:only-of-type {\n",
              "        vertical-align: middle;\n",
              "    }\n",
              "\n",
              "    .dataframe tbody tr th {\n",
              "        vertical-align: top;\n",
              "    }\n",
              "\n",
              "    .dataframe thead th {\n",
              "        text-align: right;\n",
              "    }\n",
              "</style>\n",
              "<table border=\"1\" class=\"dataframe\">\n",
              "  <thead>\n",
              "    <tr style=\"text-align: right;\">\n",
              "      <th></th>\n",
              "      <th>id</th>\n",
              "      <th>gender</th>\n",
              "      <th>age</th>\n",
              "      <th>hypertension</th>\n",
              "      <th>heart_disease</th>\n",
              "      <th>ever_married</th>\n",
              "      <th>work_type</th>\n",
              "      <th>Residence_type</th>\n",
              "      <th>avg_glucose_level</th>\n",
              "      <th>bmi</th>\n",
              "      <th>smoking_status</th>\n",
              "      <th>stroke</th>\n",
              "    </tr>\n",
              "  </thead>\n",
              "  <tbody>\n",
              "    <tr>\n",
              "      <th>0</th>\n",
              "      <td>9046</td>\n",
              "      <td>Male</td>\n",
              "      <td>67.0</td>\n",
              "      <td>0</td>\n",
              "      <td>1</td>\n",
              "      <td>Yes</td>\n",
              "      <td>Private</td>\n",
              "      <td>Urban</td>\n",
              "      <td>228.69</td>\n",
              "      <td>36.6</td>\n",
              "      <td>formerly smoked</td>\n",
              "      <td>1</td>\n",
              "    </tr>\n",
              "    <tr>\n",
              "      <th>1</th>\n",
              "      <td>51676</td>\n",
              "      <td>Female</td>\n",
              "      <td>61.0</td>\n",
              "      <td>0</td>\n",
              "      <td>0</td>\n",
              "      <td>Yes</td>\n",
              "      <td>Self-employed</td>\n",
              "      <td>Rural</td>\n",
              "      <td>202.21</td>\n",
              "      <td>NaN</td>\n",
              "      <td>never smoked</td>\n",
              "      <td>1</td>\n",
              "    </tr>\n",
              "    <tr>\n",
              "      <th>2</th>\n",
              "      <td>31112</td>\n",
              "      <td>Male</td>\n",
              "      <td>80.0</td>\n",
              "      <td>0</td>\n",
              "      <td>1</td>\n",
              "      <td>Yes</td>\n",
              "      <td>Private</td>\n",
              "      <td>Rural</td>\n",
              "      <td>105.92</td>\n",
              "      <td>32.5</td>\n",
              "      <td>never smoked</td>\n",
              "      <td>1</td>\n",
              "    </tr>\n",
              "    <tr>\n",
              "      <th>3</th>\n",
              "      <td>60182</td>\n",
              "      <td>Female</td>\n",
              "      <td>49.0</td>\n",
              "      <td>0</td>\n",
              "      <td>0</td>\n",
              "      <td>Yes</td>\n",
              "      <td>Private</td>\n",
              "      <td>Urban</td>\n",
              "      <td>171.23</td>\n",
              "      <td>34.4</td>\n",
              "      <td>smokes</td>\n",
              "      <td>1</td>\n",
              "    </tr>\n",
              "    <tr>\n",
              "      <th>4</th>\n",
              "      <td>1665</td>\n",
              "      <td>Female</td>\n",
              "      <td>79.0</td>\n",
              "      <td>1</td>\n",
              "      <td>0</td>\n",
              "      <td>Yes</td>\n",
              "      <td>Self-employed</td>\n",
              "      <td>Rural</td>\n",
              "      <td>174.12</td>\n",
              "      <td>24.0</td>\n",
              "      <td>never smoked</td>\n",
              "      <td>1</td>\n",
              "    </tr>\n",
              "  </tbody>\n",
              "</table>\n",
              "</div>\n",
              "      <button class=\"colab-df-convert\" onclick=\"convertToInteractive('df-319dd3ff-5cd7-4191-bbae-cf6ec72f49af')\"\n",
              "              title=\"Convert this dataframe to an interactive table.\"\n",
              "              style=\"display:none;\">\n",
              "        \n",
              "  <svg xmlns=\"http://www.w3.org/2000/svg\" height=\"24px\"viewBox=\"0 0 24 24\"\n",
              "       width=\"24px\">\n",
              "    <path d=\"M0 0h24v24H0V0z\" fill=\"none\"/>\n",
              "    <path d=\"M18.56 5.44l.94 2.06.94-2.06 2.06-.94-2.06-.94-.94-2.06-.94 2.06-2.06.94zm-11 1L8.5 8.5l.94-2.06 2.06-.94-2.06-.94L8.5 2.5l-.94 2.06-2.06.94zm10 10l.94 2.06.94-2.06 2.06-.94-2.06-.94-.94-2.06-.94 2.06-2.06.94z\"/><path d=\"M17.41 7.96l-1.37-1.37c-.4-.4-.92-.59-1.43-.59-.52 0-1.04.2-1.43.59L10.3 9.45l-7.72 7.72c-.78.78-.78 2.05 0 2.83L4 21.41c.39.39.9.59 1.41.59.51 0 1.02-.2 1.41-.59l7.78-7.78 2.81-2.81c.8-.78.8-2.07 0-2.86zM5.41 20L4 18.59l7.72-7.72 1.47 1.35L5.41 20z\"/>\n",
              "  </svg>\n",
              "      </button>\n",
              "      \n",
              "  <style>\n",
              "    .colab-df-container {\n",
              "      display:flex;\n",
              "      flex-wrap:wrap;\n",
              "      gap: 12px;\n",
              "    }\n",
              "\n",
              "    .colab-df-convert {\n",
              "      background-color: #E8F0FE;\n",
              "      border: none;\n",
              "      border-radius: 50%;\n",
              "      cursor: pointer;\n",
              "      display: none;\n",
              "      fill: #1967D2;\n",
              "      height: 32px;\n",
              "      padding: 0 0 0 0;\n",
              "      width: 32px;\n",
              "    }\n",
              "\n",
              "    .colab-df-convert:hover {\n",
              "      background-color: #E2EBFA;\n",
              "      box-shadow: 0px 1px 2px rgba(60, 64, 67, 0.3), 0px 1px 3px 1px rgba(60, 64, 67, 0.15);\n",
              "      fill: #174EA6;\n",
              "    }\n",
              "\n",
              "    [theme=dark] .colab-df-convert {\n",
              "      background-color: #3B4455;\n",
              "      fill: #D2E3FC;\n",
              "    }\n",
              "\n",
              "    [theme=dark] .colab-df-convert:hover {\n",
              "      background-color: #434B5C;\n",
              "      box-shadow: 0px 1px 3px 1px rgba(0, 0, 0, 0.15);\n",
              "      filter: drop-shadow(0px 1px 2px rgba(0, 0, 0, 0.3));\n",
              "      fill: #FFFFFF;\n",
              "    }\n",
              "  </style>\n",
              "\n",
              "      <script>\n",
              "        const buttonEl =\n",
              "          document.querySelector('#df-319dd3ff-5cd7-4191-bbae-cf6ec72f49af button.colab-df-convert');\n",
              "        buttonEl.style.display =\n",
              "          google.colab.kernel.accessAllowed ? 'block' : 'none';\n",
              "\n",
              "        async function convertToInteractive(key) {\n",
              "          const element = document.querySelector('#df-319dd3ff-5cd7-4191-bbae-cf6ec72f49af');\n",
              "          const dataTable =\n",
              "            await google.colab.kernel.invokeFunction('convertToInteractive',\n",
              "                                                     [key], {});\n",
              "          if (!dataTable) return;\n",
              "\n",
              "          const docLinkHtml = 'Like what you see? Visit the ' +\n",
              "            '<a target=\"_blank\" href=https://colab.research.google.com/notebooks/data_table.ipynb>data table notebook</a>'\n",
              "            + ' to learn more about interactive tables.';\n",
              "          element.innerHTML = '';\n",
              "          dataTable['output_type'] = 'display_data';\n",
              "          await google.colab.output.renderOutput(dataTable, element);\n",
              "          const docLink = document.createElement('div');\n",
              "          docLink.innerHTML = docLinkHtml;\n",
              "          element.appendChild(docLink);\n",
              "        }\n",
              "      </script>\n",
              "    </div>\n",
              "  </div>\n",
              "  "
            ],
            "text/plain": [
              "      id  gender   age  hypertension  heart_disease ever_married  \\\n",
              "0   9046    Male  67.0             0              1          Yes   \n",
              "1  51676  Female  61.0             0              0          Yes   \n",
              "2  31112    Male  80.0             0              1          Yes   \n",
              "3  60182  Female  49.0             0              0          Yes   \n",
              "4   1665  Female  79.0             1              0          Yes   \n",
              "\n",
              "       work_type Residence_type  avg_glucose_level   bmi   smoking_status  \\\n",
              "0        Private          Urban             228.69  36.6  formerly smoked   \n",
              "1  Self-employed          Rural             202.21   NaN     never smoked   \n",
              "2        Private          Rural             105.92  32.5     never smoked   \n",
              "3        Private          Urban             171.23  34.4           smokes   \n",
              "4  Self-employed          Rural             174.12  24.0     never smoked   \n",
              "\n",
              "   stroke  \n",
              "0       1  \n",
              "1       1  \n",
              "2       1  \n",
              "3       1  \n",
              "4       1  "
            ]
          },
          "execution_count": 17,
          "metadata": {},
          "output_type": "execute_result"
        }
      ],
      "source": [
        "# Printing the top rows of the dataframe\n",
        "df.head()"
      ]
    },
    {
      "cell_type": "code",
      "execution_count": null,
      "metadata": {
        "colab": {
          "base_uri": "https://localhost:8080/",
          "height": 268
        },
        "id": "zJuXZ7KdqxMg",
        "outputId": "4125577a-0e99-4b36-862e-ed2da734da50"
      },
      "outputs": [
        {
          "data": {
            "text/html": [
              "\n",
              "  <div id=\"df-2d32a4d2-ca20-4051-8d15-9ed3625fd4d4\">\n",
              "    <div class=\"colab-df-container\">\n",
              "      <div>\n",
              "<style scoped>\n",
              "    .dataframe tbody tr th:only-of-type {\n",
              "        vertical-align: middle;\n",
              "    }\n",
              "\n",
              "    .dataframe tbody tr th {\n",
              "        vertical-align: top;\n",
              "    }\n",
              "\n",
              "    .dataframe thead th {\n",
              "        text-align: right;\n",
              "    }\n",
              "</style>\n",
              "<table border=\"1\" class=\"dataframe\">\n",
              "  <thead>\n",
              "    <tr style=\"text-align: right;\">\n",
              "      <th></th>\n",
              "      <th>count</th>\n",
              "      <th>mean</th>\n",
              "      <th>std</th>\n",
              "      <th>min</th>\n",
              "      <th>25%</th>\n",
              "      <th>50%</th>\n",
              "      <th>75%</th>\n",
              "      <th>max</th>\n",
              "    </tr>\n",
              "  </thead>\n",
              "  <tbody>\n",
              "    <tr>\n",
              "      <th>id</th>\n",
              "      <td>5110.0</td>\n",
              "      <td>36517.829354</td>\n",
              "      <td>21161.721625</td>\n",
              "      <td>67.00</td>\n",
              "      <td>17741.250</td>\n",
              "      <td>36932.000</td>\n",
              "      <td>54682.00</td>\n",
              "      <td>72940.00</td>\n",
              "    </tr>\n",
              "    <tr>\n",
              "      <th>age</th>\n",
              "      <td>5110.0</td>\n",
              "      <td>43.226614</td>\n",
              "      <td>22.612647</td>\n",
              "      <td>0.08</td>\n",
              "      <td>25.000</td>\n",
              "      <td>45.000</td>\n",
              "      <td>61.00</td>\n",
              "      <td>82.00</td>\n",
              "    </tr>\n",
              "    <tr>\n",
              "      <th>hypertension</th>\n",
              "      <td>5110.0</td>\n",
              "      <td>0.097456</td>\n",
              "      <td>0.296607</td>\n",
              "      <td>0.00</td>\n",
              "      <td>0.000</td>\n",
              "      <td>0.000</td>\n",
              "      <td>0.00</td>\n",
              "      <td>1.00</td>\n",
              "    </tr>\n",
              "    <tr>\n",
              "      <th>heart_disease</th>\n",
              "      <td>5110.0</td>\n",
              "      <td>0.054012</td>\n",
              "      <td>0.226063</td>\n",
              "      <td>0.00</td>\n",
              "      <td>0.000</td>\n",
              "      <td>0.000</td>\n",
              "      <td>0.00</td>\n",
              "      <td>1.00</td>\n",
              "    </tr>\n",
              "    <tr>\n",
              "      <th>avg_glucose_level</th>\n",
              "      <td>5110.0</td>\n",
              "      <td>106.147677</td>\n",
              "      <td>45.283560</td>\n",
              "      <td>55.12</td>\n",
              "      <td>77.245</td>\n",
              "      <td>91.885</td>\n",
              "      <td>114.09</td>\n",
              "      <td>271.74</td>\n",
              "    </tr>\n",
              "    <tr>\n",
              "      <th>bmi</th>\n",
              "      <td>4909.0</td>\n",
              "      <td>28.893237</td>\n",
              "      <td>7.854067</td>\n",
              "      <td>10.30</td>\n",
              "      <td>23.500</td>\n",
              "      <td>28.100</td>\n",
              "      <td>33.10</td>\n",
              "      <td>97.60</td>\n",
              "    </tr>\n",
              "    <tr>\n",
              "      <th>stroke</th>\n",
              "      <td>5110.0</td>\n",
              "      <td>0.048728</td>\n",
              "      <td>0.215320</td>\n",
              "      <td>0.00</td>\n",
              "      <td>0.000</td>\n",
              "      <td>0.000</td>\n",
              "      <td>0.00</td>\n",
              "      <td>1.00</td>\n",
              "    </tr>\n",
              "  </tbody>\n",
              "</table>\n",
              "</div>\n",
              "      <button class=\"colab-df-convert\" onclick=\"convertToInteractive('df-2d32a4d2-ca20-4051-8d15-9ed3625fd4d4')\"\n",
              "              title=\"Convert this dataframe to an interactive table.\"\n",
              "              style=\"display:none;\">\n",
              "        \n",
              "  <svg xmlns=\"http://www.w3.org/2000/svg\" height=\"24px\"viewBox=\"0 0 24 24\"\n",
              "       width=\"24px\">\n",
              "    <path d=\"M0 0h24v24H0V0z\" fill=\"none\"/>\n",
              "    <path d=\"M18.56 5.44l.94 2.06.94-2.06 2.06-.94-2.06-.94-.94-2.06-.94 2.06-2.06.94zm-11 1L8.5 8.5l.94-2.06 2.06-.94-2.06-.94L8.5 2.5l-.94 2.06-2.06.94zm10 10l.94 2.06.94-2.06 2.06-.94-2.06-.94-.94-2.06-.94 2.06-2.06.94z\"/><path d=\"M17.41 7.96l-1.37-1.37c-.4-.4-.92-.59-1.43-.59-.52 0-1.04.2-1.43.59L10.3 9.45l-7.72 7.72c-.78.78-.78 2.05 0 2.83L4 21.41c.39.39.9.59 1.41.59.51 0 1.02-.2 1.41-.59l7.78-7.78 2.81-2.81c.8-.78.8-2.07 0-2.86zM5.41 20L4 18.59l7.72-7.72 1.47 1.35L5.41 20z\"/>\n",
              "  </svg>\n",
              "      </button>\n",
              "      \n",
              "  <style>\n",
              "    .colab-df-container {\n",
              "      display:flex;\n",
              "      flex-wrap:wrap;\n",
              "      gap: 12px;\n",
              "    }\n",
              "\n",
              "    .colab-df-convert {\n",
              "      background-color: #E8F0FE;\n",
              "      border: none;\n",
              "      border-radius: 50%;\n",
              "      cursor: pointer;\n",
              "      display: none;\n",
              "      fill: #1967D2;\n",
              "      height: 32px;\n",
              "      padding: 0 0 0 0;\n",
              "      width: 32px;\n",
              "    }\n",
              "\n",
              "    .colab-df-convert:hover {\n",
              "      background-color: #E2EBFA;\n",
              "      box-shadow: 0px 1px 2px rgba(60, 64, 67, 0.3), 0px 1px 3px 1px rgba(60, 64, 67, 0.15);\n",
              "      fill: #174EA6;\n",
              "    }\n",
              "\n",
              "    [theme=dark] .colab-df-convert {\n",
              "      background-color: #3B4455;\n",
              "      fill: #D2E3FC;\n",
              "    }\n",
              "\n",
              "    [theme=dark] .colab-df-convert:hover {\n",
              "      background-color: #434B5C;\n",
              "      box-shadow: 0px 1px 3px 1px rgba(0, 0, 0, 0.15);\n",
              "      filter: drop-shadow(0px 1px 2px rgba(0, 0, 0, 0.3));\n",
              "      fill: #FFFFFF;\n",
              "    }\n",
              "  </style>\n",
              "\n",
              "      <script>\n",
              "        const buttonEl =\n",
              "          document.querySelector('#df-2d32a4d2-ca20-4051-8d15-9ed3625fd4d4 button.colab-df-convert');\n",
              "        buttonEl.style.display =\n",
              "          google.colab.kernel.accessAllowed ? 'block' : 'none';\n",
              "\n",
              "        async function convertToInteractive(key) {\n",
              "          const element = document.querySelector('#df-2d32a4d2-ca20-4051-8d15-9ed3625fd4d4');\n",
              "          const dataTable =\n",
              "            await google.colab.kernel.invokeFunction('convertToInteractive',\n",
              "                                                     [key], {});\n",
              "          if (!dataTable) return;\n",
              "\n",
              "          const docLinkHtml = 'Like what you see? Visit the ' +\n",
              "            '<a target=\"_blank\" href=https://colab.research.google.com/notebooks/data_table.ipynb>data table notebook</a>'\n",
              "            + ' to learn more about interactive tables.';\n",
              "          element.innerHTML = '';\n",
              "          dataTable['output_type'] = 'display_data';\n",
              "          await google.colab.output.renderOutput(dataTable, element);\n",
              "          const docLink = document.createElement('div');\n",
              "          docLink.innerHTML = docLinkHtml;\n",
              "          element.appendChild(docLink);\n",
              "        }\n",
              "      </script>\n",
              "    </div>\n",
              "  </div>\n",
              "  "
            ],
            "text/plain": [
              "                    count          mean           std    min        25%  \\\n",
              "id                 5110.0  36517.829354  21161.721625  67.00  17741.250   \n",
              "age                5110.0     43.226614     22.612647   0.08     25.000   \n",
              "hypertension       5110.0      0.097456      0.296607   0.00      0.000   \n",
              "heart_disease      5110.0      0.054012      0.226063   0.00      0.000   \n",
              "avg_glucose_level  5110.0    106.147677     45.283560  55.12     77.245   \n",
              "bmi                4909.0     28.893237      7.854067  10.30     23.500   \n",
              "stroke             5110.0      0.048728      0.215320   0.00      0.000   \n",
              "\n",
              "                         50%       75%       max  \n",
              "id                 36932.000  54682.00  72940.00  \n",
              "age                   45.000     61.00     82.00  \n",
              "hypertension           0.000      0.00      1.00  \n",
              "heart_disease          0.000      0.00      1.00  \n",
              "avg_glucose_level     91.885    114.09    271.74  \n",
              "bmi                   28.100     33.10     97.60  \n",
              "stroke                 0.000      0.00      1.00  "
            ]
          },
          "execution_count": 18,
          "metadata": {},
          "output_type": "execute_result"
        }
      ],
      "source": [
        "# An overall description of the data\n",
        "df.describe().T"
      ]
    },
    {
      "cell_type": "code",
      "execution_count": 10,
      "metadata": {
        "id": "bOFV8QWJRSxm"
      },
      "outputs": [],
      "source": [
        "# Encoding the columns with string values using Label Encoder to convert them into numerical\n",
        "# values for easy computation.\n",
        "\n",
        "label_encoder = LabelEncoder()\n",
        "df['gender'] = label_encoder.fit_transform(df['gender'])\n",
        "df['ever_married'] = label_encoder.fit_transform(df['ever_married'])\n",
        "df['work_type'] = label_encoder.fit_transform(df['work_type'])\n",
        "df['Residence_type'] = label_encoder.fit_transform(df['Residence_type'])\n",
        "df['smoking_status'] = label_encoder.fit_transform(df['smoking_status'])"
      ]
    },
    {
      "cell_type": "code",
      "execution_count": null,
      "metadata": {
        "colab": {
          "base_uri": "https://localhost:8080/"
        },
        "id": "Gv1SrvKp8sBk",
        "outputId": "a70e2cec-e6fc-417d-917f-95471d551047"
      },
      "outputs": [
        {
          "data": {
            "text/plain": [
              "(5110, 12)"
            ]
          },
          "execution_count": 20,
          "metadata": {},
          "output_type": "execute_result"
        }
      ],
      "source": [
        "# Dimensions of dataset\n",
        "df.shape"
      ]
    },
    {
      "cell_type": "code",
      "execution_count": null,
      "metadata": {
        "colab": {
          "base_uri": "https://localhost:8080/"
        },
        "id": "R-D3s8mcSQm2",
        "outputId": "050cd945-97b4-49b7-e03a-6724c0371ec8"
      },
      "outputs": [
        {
          "data": {
            "text/plain": [
              "id                     0\n",
              "gender                 0\n",
              "age                    0\n",
              "hypertension           0\n",
              "heart_disease          0\n",
              "ever_married           0\n",
              "work_type              0\n",
              "Residence_type         0\n",
              "avg_glucose_level      0\n",
              "bmi                  201\n",
              "smoking_status         0\n",
              "stroke                 0\n",
              "dtype: int64"
            ]
          },
          "execution_count": 21,
          "metadata": {},
          "output_type": "execute_result"
        }
      ],
      "source": [
        "# Observing Null values\n",
        "df.isnull().sum()"
      ]
    },
    {
      "cell_type": "code",
      "execution_count": 11,
      "metadata": {
        "id": "v9kEFdhLSbh_"
      },
      "outputs": [],
      "source": [
        "# Replacing the Null values by the mean of their respective columns\n",
        "df.bmi.fillna(df.bmi.mean(),inplace = True)"
      ]
    },
    {
      "cell_type": "code",
      "execution_count": null,
      "metadata": {
        "colab": {
          "base_uri": "https://localhost:8080/"
        },
        "id": "exXcXxEU9pV7",
        "outputId": "2d8060d1-4386-41b3-b552-2a143e053226"
      },
      "outputs": [
        {
          "name": "stdout",
          "output_type": "stream",
          "text": [
            "gender :\n",
            "0 : 2994\n",
            "1 : 2115\n",
            "2 : 1\n",
            "ever_married :\n",
            "0 : 1757\n",
            "1 : 3353\n",
            "work_type :\n",
            "0 : 657\n",
            "1 : 22\n",
            "2 : 2925\n",
            "3 : 819\n",
            "4 : 687\n",
            "Residence_type :\n",
            "0 : 2514\n",
            "1 : 2596\n",
            "smoking_status :\n",
            "0 : 1544\n",
            "1 : 885\n",
            "2 : 1892\n",
            "3 : 789\n",
            "hypertension :\n",
            "0 : 4612\n",
            "1 : 498\n"
          ]
        }
      ],
      "source": [
        "# Distribution of data points across different attributes\n",
        "cat_features = [\"gender\", \"ever_married\", \"work_type\", \"Residence_type\", \"smoking_status\",\"hypertension\"]\n",
        "for i in cat_features:\n",
        "  print(i,\":\")\n",
        "  for j in np.unique(np.array(df[i])):\n",
        "    print(j,\":\",list(df[i]).count(j))"
      ]
    },
    {
      "cell_type": "code",
      "execution_count": null,
      "metadata": {
        "id": "mwo2TlxBAEZ5"
      },
      "outputs": [],
      "source": [
        "df.drop(df[df['gender'] == 2].index, axis = 0, inplace=True)"
      ]
    },
    {
      "cell_type": "markdown",
      "metadata": {
        "id": "H8G1ZUMo_hOY"
      },
      "source": [
        "## **Visualizing the distribution of Data**"
      ]
    },
    {
      "cell_type": "code",
      "execution_count": null,
      "metadata": {
        "colab": {
          "background_save": true,
          "base_uri": "https://localhost:8080/",
          "height": 879
        },
        "id": "GKcJxkcOKyjI",
        "outputId": "c31a55f0-69d7-4220-d1db-d7c93df5a759"
      },
      "outputs": [
        {
          "data": {
            "image/png": "[encoded data removed]",
            "text/plain": [
              "<Figure size 1440x1080 with 12 Axes>"
            ]
          },
          "metadata": {},
          "output_type": "display_data"
        }
      ],
      "source": [
        "# Histograms showing distribution across the features\n",
        "df.iloc[:,1:-1].hist(bins=50, figsize=(20,15))\n",
        "plt.show()"
      ]
    },
    {
      "cell_type": "code",
      "execution_count": null,
      "metadata": {
        "colab": {
          "background_save": true,
          "base_uri": "https://localhost:8080/",
          "height": 368
        },
        "id": "aokyn4Tn7Wii",
        "outputId": "2b6356d1-119a-4f4c-afc8-4144ed163dfc"
      },
      "outputs": [
        {
          "data": {
            "text/plain": [
              "<matplotlib.axes._subplots.AxesSubplot at 0x7f63f1e0d950>"
            ]
          },
          "execution_count": null,
          "metadata": {},
          "output_type": "execute_result"
        },
        {
          "data": {
            "image/png": "[encoded data removed]",
            "text/plain": [
              "<Figure size 432x288 with 2 Axes>"
            ]
          },
          "metadata": {},
          "output_type": "display_data"
        }
      ],
      "source": [
        "# Heatmap to visualize the correlation between the attributes \n",
        "sns.heatmap(df[[\"age\", 'work_type', 'avg_glucose_level', 'bmi', 'smoking_status']].corr(), vmin=-1, vmax=1, annot=True)"
      ]
    },
    {
      "cell_type": "code",
      "execution_count": 13,
      "metadata": {
        "id": "zh5J93sqSxdl"
      },
      "outputs": [],
      "source": [
        "# X and y data\n",
        "X = df.iloc[:,:-1]\n",
        "y = df.iloc[:,-1]\n",
        "del X['id']"
      ]
    },
    {
      "cell_type": "markdown",
      "metadata": {
        "id": "3IK3trTP1BKP"
      },
      "source": [
        "## **Applying SMOTE to increase the samples containing 1 as predicted values**\n",
        "\n",
        "This is done as the given dataset is highly skewed towards output label 0. This leads to the model being biased towards predictions with label 0, and it classifies predictions with output 1 as also 0, which is type - 2 error, and is highly critical here (Patients vulnerable to stroke are classified as the opposite which could prove to be deadly). Hence, we increase the number of samples with output value 1, so at the cost of accuracy we decrease the type - 2 error, which is a safer option in the world of diagnosis."
      ]
    },
    {
      "cell_type": "code",
      "execution_count": 14,
      "metadata": {
        "colab": {
          "base_uri": "https://localhost:8080/"
        },
        "id": "dKcTPg_GGOMz",
        "outputId": "cd68dd1d-07df-44cf-f846-e62c6fa842d9"
      },
      "outputs": [
        {
          "output_type": "stream",
          "name": "stdout",
          "text": [
            "Original dataset shape Counter({0: 4861, 1: 249})\n",
            "Resample dataset shape Counter({1: 4861, 0: 4861})\n"
          ]
        }
      ],
      "source": [
        "# Applying SMOTE to increase the number of samples of output class y = 1\n",
        "# to ensure uniform distribution of data points so that model does not\n",
        "# lead to more type - 2 Error which is critical here\n",
        "smote = SMOTE()\n",
        "counter = Counter(y)\n",
        "print('Original dataset shape', counter)\n",
        "\n",
        "# fit predictor and target variable\n",
        "X_after_smote, y_after_smote = smote.fit_resample(X, y)\n",
        "\n",
        "counter = Counter(y_after_smote)\n",
        "print('Resample dataset shape', counter)"
      ]
    },
    {
      "cell_type": "markdown",
      "metadata": {
        "id": "MsZFjazU_13X"
      },
      "source": [
        "Splitting the dataset ito train, validation and test data"
      ]
    },
    {
      "cell_type": "code",
      "execution_count": 15,
      "metadata": {
        "id": "qKnHNeIsWoN7"
      },
      "outputs": [],
      "source": [
        "# Splitting the data into train and test splits\n",
        "X_train, X_test, y_train, y_test = train_test_split(X_after_smote, y_after_smote, stratify = y_after_smote, train_size=0.8, random_state=42)"
      ]
    },
    {
      "cell_type": "code",
      "execution_count": 16,
      "metadata": {
        "id": "83C82VtLT4aU"
      },
      "outputs": [],
      "source": [
        "# Using Min-Max Scaler to scale the data\n",
        "scaler = MMS()\n",
        "X_train['bmi'] = scaler.fit_transform(pd.DataFrame(X_train['bmi']))\n",
        "X_train['avg_glucose_level'] = scaler.fit_transform(pd.DataFrame(X_train['avg_glucose_level']))\n",
        "X_train['age'] = scaler.fit_transform(pd.DataFrame(X_train['age']))\n"
      ]
    },
    {
      "cell_type": "code",
      "execution_count": 17,
      "metadata": {
        "id": "RQ23pK59zleC"
      },
      "outputs": [],
      "source": [
        "# Splitting the data into train and validation splits\n",
        "X_train, X_validation, y_train, y_validation = train_test_split(X_train, y_train, stratify = y_train, train_size = 0.8, random_state = 42)"
      ]
    },
    {
      "cell_type": "code",
      "execution_count": 18,
      "metadata": {
        "id": "tqkDFw1aFXBp"
      },
      "outputs": [],
      "source": [
        "df1 = df.copy()"
      ]
    },
    {
      "cell_type": "code",
      "execution_count": null,
      "metadata": {
        "id": "AeChKO3SB5M3"
      },
      "outputs": [],
      "source": [
        "# Function to create stacked barcharts for better visualization of continuous features\n",
        "def stacked_barchart(column):\n",
        "  df_breakdown = df1.groupby([column,'stroke'])['age'].count()\n",
        "  df_tot = df1.groupby([column])['age'].count()\n",
        "  df_pct = (df_breakdown/df_tot)*100\n",
        "  df_pct = df_pct.unstack()\n",
        "  return df_pct.plot.bar(stacked=True,figsize=(5,5),width=0.5) \n",
        "\n",
        "# discretizing the continuous features\n",
        "df1['age'] = pd.cut(df1['age'],np.arange(0,85,5))\n",
        "df1['bmi'] = pd.cut(df1['bmi'],np.arange(10,100,5))\n",
        "df1['avg_glucose_level'] = pd.cut(df1['avg_glucose_level'],np.arange(55,275,10))"
      ]
    },
    {
      "cell_type": "markdown",
      "metadata": {
        "id": "Ir0-FkYG2F8r"
      },
      "source": [
        "Visualization of the distribution of features using stacked barcharts"
      ]
    },
    {
      "cell_type": "code",
      "execution_count": null,
      "metadata": {
        "colab": {
          "base_uri": "https://localhost:8080/",
          "height": 1000
        },
        "id": "NAy4nZbZG4YN",
        "outputId": "501e2be5-dfb9-475b-e4dc-789ddd0b0d98"
      },
      "outputs": [
        {
          "data": {
            "image/png": "[encoded data removed]",
            "text/plain": [
              "<Figure size 360x360 with 1 Axes>"
            ]
          },
          "metadata": {},
          "output_type": "display_data"
        },
        {
          "data": {
            "image/png": "[encoded data removed]",
            "text/plain": [
              "<Figure size 360x360 with 1 Axes>"
            ]
          },
          "metadata": {},
          "output_type": "display_data"
        },
        {
          "data": {
            "image/png": "[encoded data removed]",
            "text/plain": [
              "<Figure size 360x360 with 1 Axes>"
            ]
          },
          "metadata": {},
          "output_type": "display_data"
        },
        {
          "data": {
            "image/png": "[encoded data removed]",
            "text/plain": [
              "<Figure size 360x360 with 1 Axes>"
            ]
          },
          "metadata": {},
          "output_type": "display_data"
        },
        {
          "data": {
            "image/png": "[encoded data removed]",
            "text/plain": [
              "<Figure size 360x360 with 1 Axes>"
            ]
          },
          "metadata": {},
          "output_type": "display_data"
        },
        {
          "data": {
            "image/png": "[encoded data removed]",
            "text/plain": [
              "<Figure size 360x360 with 1 Axes>"
            ]
          },
          "metadata": {},
          "output_type": "display_data"
        },
        {
          "data": {
            "image/png": "[encoded data removed]",
            "text/plain": [
              "<Figure size 360x360 with 1 Axes>"
            ]
          },
          "metadata": {},
          "output_type": "display_data"
        },
        {
          "data": {
            "image/png": "[encoded data removed]",
            "text/plain": [
              "<Figure size 360x360 with 1 Axes>"
            ]
          },
          "metadata": {},
          "output_type": "display_data"
        },
        {
          "data": {
            "image/png": "[encoded data removed]",
            "text/plain": [
              "<Figure size 360x360 with 1 Axes>"
            ]
          },
          "metadata": {},
          "output_type": "display_data"
        },
        {
          "data": {
            "image/png": "[encoded data removed]",
            "text/plain": [
              "<Figure size 360x360 with 1 Axes>"
            ]
          },
          "metadata": {},
          "output_type": "display_data"
        }
      ],
      "source": [
        "# Stacked bar charts for visualization\n",
        "for i in df1.columns[1:-1]:\n",
        "  stacked_barchart(i)"
      ]
    },
    {
      "cell_type": "code",
      "execution_count": null,
      "metadata": {
        "id": "5tfRDjRy9g61"
      },
      "outputs": [],
      "source": [
        "# Function to calculate type-2 error (an important evaluation metrics here)\n",
        "def type2_error(cm):\n",
        "  return (cm[0][1]/(cm[0][1] + cm[1][1]))"
      ]
    },
    {
      "cell_type": "code",
      "source": [
        ""
      ],
      "metadata": {
        "id": "jAhKVYUS4Xns"
      },
      "execution_count": null,
      "outputs": []
    },
    {
      "cell_type": "markdown",
      "metadata": {
        "id": "j1Knbd-b4YEh"
      },
      "source": [
        "# **Manual Hyperparameter tuning**\n",
        "\n",
        "Here, we apply manual tuning of hyperparameters and check their performance over the validation dataset using the evaluation metrics as accuracy and type - 2 error."
      ]
    },
    {
      "cell_type": "markdown",
      "metadata": {
        "id": "JoWVYeQ24YEh"
      },
      "source": [
        "### **1. Random Forest Classifier**"
      ]
    },
    {
      "cell_type": "code",
      "execution_count": null,
      "metadata": {
        "colab": {
          "base_uri": "https://localhost:8080/"
        },
        "id": "BC5MUpKT0eGW",
        "outputId": "8f5111e6-9214-4f74-9bb7-1e9f3404d865"
      },
      "outputs": [
        {
          "output_type": "execute_result",
          "data": {
            "text/plain": [
              "(0.8984910836762688, 0.10096153846153846)"
            ]
          },
          "metadata": {},
          "execution_count": 145
        }
      ],
      "source": [
        "model1 = RFC()\n",
        "model1.fit(X_train,y_train)\n",
        "y_pred1 = model1.predict(X_test)\n",
        "accuracy(y_test,y_pred1),type2_error(cm(y_test,y_pred1))"
      ]
    },
    {
      "cell_type": "code",
      "execution_count": null,
      "metadata": {
        "colab": {
          "base_uri": "https://localhost:8080/"
        },
        "id": "LVYTv4Tn1Bt9",
        "outputId": "8ac2682f-d57d-4362-af89-4044cd5c66f0"
      },
      "outputs": [
        {
          "name": "stdout",
          "output_type": "stream",
          "text": [
            "i =  0\n",
            "0.7766895200783546 0.28679245283018867\n",
            "i =  1\n",
            "0.7982370225269344 0.2611764705882353\n",
            "i =  2\n",
            "0.8080313418217434 0.24940239043824702\n",
            "i =  3\n",
            "0.8256611165523996 0.22768222768222768\n",
            "i =  4\n",
            "0.8310479921645446 0.21500843170320405\n",
            "i =  5\n",
            "0.8501469147894222 0.19313304721030042\n",
            "i =  6\n",
            "0.8530852105778648 0.18679409209383144\n",
            "i =  7\n",
            "0.8643486777668952 0.17425569176882663\n",
            "i =  8\n",
            "0.8653281096963761 0.16991150442477876\n",
            "i =  9\n",
            "0.8658178256611165 0.16976127320954906\n"
          ]
        }
      ],
      "source": [
        "for i in range(10):\n",
        "  model1 = RFC(n_estimators = 100 + 50*i,max_depth = 2+i,min_samples_split = 2+ 2*i,max_features = 'auto',min_samples_leaf = 2+2*i)\n",
        "  model1.fit(X_train,y_train)\n",
        "  y_pred1 = model1.predict(X_validation)\n",
        "  print(\"i = \",i)\n",
        "  print(accuracy(y_validation,y_pred1),type2_error(cm(y_validation,y_pred1)))\n"
      ]
    },
    {
      "cell_type": "code",
      "execution_count": null,
      "metadata": {
        "colab": {
          "base_uri": "https://localhost:8080/"
        },
        "id": "vTxwgRgK02iV",
        "outputId": "5ad70b10-e7ff-4409-e1f7-83093d0fe1eb"
      },
      "outputs": [
        {
          "name": "stdout",
          "output_type": "stream",
          "text": [
            "i =  2 j =  2\n",
            "0.8917727717923605 0.1447602131438721\n",
            "i =  2 j =  3\n",
            "0.8907933398628796 0.1443850267379679\n",
            "i =  2 j =  5\n",
            "0.89128305582762 0.1448888888888889\n",
            "i =  2 j =  7\n",
            "0.8893241919686582 0.14666666666666667\n",
            "i =  2 j =  10\n",
            "0.8868756121449559 0.149822695035461\n",
            "i =  2 j =  15\n",
            "0.8849167482859941 0.15221238938053097\n",
            "i =  2 j =  20\n",
            "0.8829578844270323 0.15151515151515152\n",
            "i =  3 j =  2\n",
            "0.8907933398628796 0.14690265486725665\n",
            "i =  3 j =  3\n",
            "0.8893241919686582 0.1460373998219056\n",
            "i =  3 j =  5\n",
            "0.8878550440744368 0.14893617021276595\n",
            "i =  3 j =  7\n",
            "0.8888344760039177 0.14742451154529307\n",
            "i =  3 j =  10\n",
            "0.8898139079333987 0.14590747330960854\n",
            "i =  3 j =  15\n",
            "0.8844270323212536 0.15296198054818744\n",
            "i =  3 j =  20\n",
            "0.8844270323212536 0.1511111111111111\n",
            "i =  5 j =  2\n",
            "0.8839373163565132 0.1524822695035461\n",
            "i =  5 j =  3\n",
            "0.8849167482859941 0.15159574468085107\n",
            "i =  5 j =  5\n",
            "0.8824681684622919 0.15288888888888888\n",
            "i =  5 j =  7\n",
            "0.8824681684622919 0.15411868910540302\n",
            "i =  5 j =  10\n",
            "0.8854064642507345 0.14897413024085637\n",
            "i =  5 j =  15\n",
            "0.8805093046033301 0.15710503089143865\n",
            "i =  5 j =  20\n",
            "0.8795298726738492 0.15859030837004406\n",
            "i =  7 j =  2\n",
            "0.881488736532811 0.1550044286979628\n",
            "i =  7 j =  3\n",
            "0.8809990205680706 0.15636042402826855\n",
            "i =  7 j =  5\n",
            "0.876101860920666 0.1607773851590106\n",
            "i =  7 j =  7\n",
            "0.8805093046033301 0.15466666666666667\n",
            "i =  7 j =  10\n",
            "0.8785504407443683 0.15766164747564215\n",
            "i =  7 j =  15\n",
            "0.8790401567091087 0.15752212389380532\n",
            "i =  7 j =  20\n",
            "0.876101860920666 0.1607773851590106\n",
            "i =  10 j =  2\n",
            "0.876101860920666 0.1607773851590106\n",
            "i =  10 j =  3\n",
            "0.8741429970617042 0.16074600355239788\n",
            "i =  10 j =  5\n",
            "0.8751224289911851 0.16166077738515902\n",
            "i =  10 j =  7\n",
            "0.8697355533790402 0.16444444444444445\n",
            "i =  10 j =  10\n",
            "0.876101860920666 0.1595744680851064\n",
            "i =  10 j =  15\n",
            "0.8751224289911851 0.16106194690265488\n",
            "i =  10 j =  20\n",
            "0.8721841332027425 0.16371681415929204\n",
            "i =  15 j =  2\n",
            "0.8682664054848188 0.1672566371681416\n",
            "i =  15 j =  3\n",
            "0.8667972575905974 0.1671111111111111\n",
            "i =  15 j =  5\n",
            "0.8633692458374143 0.17109929078014185\n",
            "i =  15 j =  7\n",
            "0.866307541625857 0.16785079928952043\n",
            "i =  15 j =  10\n",
            "0.8672869735553379 0.1675531914893617\n",
            "i =  15 j =  15\n",
            "0.8653281096963761 0.16932624113475178\n",
            "i =  15 j =  20\n",
            "0.8677766895200784 0.16740478299379982\n",
            "i =  20 j =  2\n",
            "0.8614103819784525 0.17170818505338079\n",
            "i =  20 j =  3\n",
            "0.8614103819784525 0.17345132743362832\n",
            "i =  20 j =  5\n",
            "0.8614103819784525 0.17287234042553193\n",
            "i =  20 j =  7\n",
            "0.8614103819784525 0.17229129662522202\n",
            "i =  20 j =  10\n",
            "0.8628795298726738 0.17125110913930788\n",
            "i =  20 j =  15\n",
            "0.8638589618021547 0.17326297273526825\n",
            "i =  20 j =  20\n",
            "0.8589618021547503 0.17480035492457852\n"
          ]
        }
      ],
      "source": [
        "min_samples_split = [2,3,5,7,10,15,20]\n",
        "min_samples_leaf = [2,3,5,7,10,15,20]\n",
        "for i in min_samples_leaf:\n",
        "  for j in min_samples_split :\n",
        "    model1 = RFC(n_estimators = 500,max_depth = 10,min_samples_split = j,max_features = 'auto',min_samples_leaf = i)\n",
        "    model1.fit(X_train,y_train)\n",
        "    y_pred1 = model1.predict(X_validation)\n",
        "    print(\"i = \",i,\"j = \",j)\n",
        "    print(accuracy(y_validation,y_pred1),type2_error(cm(y_validation,y_pred1)))"
      ]
    },
    {
      "cell_type": "code",
      "execution_count": null,
      "metadata": {
        "colab": {
          "base_uri": "https://localhost:8080/"
        },
        "id": "Vb8oElQG26FT",
        "outputId": "551c389e-a7ae-411a-cbcf-02ed6a13c3f1"
      },
      "outputs": [
        {
          "name": "stdout",
          "output_type": "stream",
          "text": [
            "i =  200 j =  2\n",
            "0.7727717923604309 0.2907588279489106\n",
            "i =  200 j =  3\n",
            "0.7908912830558276 0.26976744186046514\n",
            "i =  200 j =  5\n",
            "0.8197845249755142 0.23346938775510204\n",
            "i =  200 j =  7\n",
            "0.8530852105778648 0.19108826049700087\n",
            "i =  200 j =  10\n",
            "0.8937316356513222 0.14298401420959148\n",
            "i =  250 j =  2\n",
            "0.7796278158667973 0.2842025699168556\n",
            "i =  250 j =  3\n",
            "0.7894221351616063 0.271461716937355\n",
            "i =  250 j =  5\n",
            "0.8232125367286973 0.23083197389885807\n",
            "i =  250 j =  7\n",
            "0.8555337904015671 0.18760757314974183\n",
            "i =  250 j =  10\n",
            "0.8907933398628796 0.14501779359430605\n",
            "i =  300 j =  2\n",
            "0.7757100881488737 0.2891385767790262\n",
            "i =  300 j =  3\n",
            "0.7918707149853085 0.2682737169517885\n",
            "i =  300 j =  5\n",
            "0.821743388834476 0.23183673469387756\n",
            "i =  300 j =  7\n",
            "0.856513222331048 0.18835616438356165\n",
            "i =  300 j =  10\n",
            "0.8903036238981391 0.1470327723649247\n",
            "i =  350 j =  2\n",
            "0.7757100881488737 0.2888222055513878\n",
            "i =  350 j =  3\n",
            "0.7908912830558276 0.2704791344667697\n",
            "i =  350 j =  5\n",
            "0.8256611165523996 0.22633744855967078\n",
            "i =  350 j =  7\n",
            "0.8525954946131243 0.1917808219178082\n",
            "i =  350 j =  10\n",
            "0.89128305582762 0.14425645592163847\n",
            "i =  400 j =  2\n",
            "0.7810969637610186 0.2822458270106222\n",
            "i =  400 j =  3\n",
            "0.786973555337904 0.27286821705426356\n",
            "i =  400 j =  5\n",
            "0.821743388834476 0.23051681706316654\n",
            "i =  400 j =  7\n",
            "0.8560235063663075 0.1874462596732588\n",
            "i =  400 j =  10\n",
            "0.8947110675808031 0.1427304964539007\n",
            "i =  450 j =  2\n",
            "0.7761998041136141 0.2876506024096386\n",
            "i =  450 j =  3\n",
            "0.7923604309500489 0.2680652680652681\n",
            "i =  450 j =  5\n",
            "0.8290891283055828 0.2236842105263158\n",
            "i =  450 j =  7\n",
            "0.8545543584720862 0.1895368782161235\n",
            "i =  450 j =  10\n",
            "0.8903036238981391 0.1470327723649247\n",
            "i =  500 j =  2\n",
            "0.7742409402546523 0.2888386123680241\n",
            "i =  500 j =  3\n",
            "0.7952987267384917 0.2642689601250977\n",
            "i =  500 j =  5\n",
            "0.8256611165523996 0.22768222768222768\n",
            "i =  500 j =  7\n",
            "0.8540646425073457 0.18809318377911993\n",
            "i =  500 j =  10\n",
            "0.8917727717923605 0.14601769911504425\n",
            "i =  550 j =  2\n",
            "0.7722820763956905 0.2912912912912913\n",
            "i =  550 j =  3\n",
            "0.7908912830558276 0.2704791344667697\n",
            "i =  550 j =  5\n",
            "0.8207639569049952 0.23221586263287\n",
            "i =  550 j =  7\n",
            "0.8570029382957884 0.18925831202046037\n",
            "i =  550 j =  10\n",
            "0.8898139079333987 0.14778761061946902\n",
            "i =  600 j =  2\n",
            "0.777179236043095 0.2868975903614458\n",
            "i =  600 j =  3\n",
            "0.791380999020568 0.2692009309542281\n",
            "i =  600 j =  5\n",
            "0.8232125367286973 0.22950819672131148\n",
            "i =  600 j =  7\n",
            "0.856513222331048 0.18782161234991424\n",
            "i =  600 j =  10\n",
            "0.8937316356513222 0.14298401420959148\n",
            "i =  650 j =  2\n",
            "0.7737512242899118 0.2903225806451613\n",
            "i =  650 j =  3\n",
            "0.7879529872673849 0.2724458204334365\n",
            "i =  650 j =  5\n",
            "0.8241919686581782 0.22779605263157895\n",
            "i =  650 j =  7\n",
            "0.8555337904015671 0.18974358974358974\n",
            "i =  650 j =  10\n",
            "0.8927522037218414 0.14323843416370108\n",
            "i =  700 j =  2\n",
            "0.7766895200783546 0.28711379050489827\n",
            "i =  700 j =  3\n",
            "0.7923604309500489 0.2680652680652681\n",
            "i =  700 j =  5\n",
            "0.8222331047992164 0.23164763458401305\n",
            "i =  700 j =  7\n",
            "0.8555337904015671 0.1892123287671233\n",
            "i =  700 j =  10\n",
            "0.89128305582762 0.14614703277236493\n"
          ]
        }
      ],
      "source": [
        "n_estimators = [200,250,300,350,400,450,500,550,600,650,700]\n",
        "max_depth = [2,3,5,7,10]\n",
        "for i in n_estimators:\n",
        "  for j in max_depth :\n",
        "    model1 = RFC(n_estimators = i,max_depth = j,min_samples_split = 2,max_features = 'auto',min_samples_leaf = 2)\n",
        "    model1.fit(X_train,y_train)\n",
        "    y_pred1 = model1.predict(X_validation)\n",
        "    print(\"i = \",i,\"j = \",j)\n",
        "    print(accuracy(y_validation,y_pred1),type2_error(cm(y_validation,y_pred1)))"
      ]
    },
    {
      "cell_type": "code",
      "execution_count": null,
      "metadata": {
        "colab": {
          "base_uri": "https://localhost:8080/"
        },
        "id": "Va-VwYaV5n8N",
        "outputId": "67524b0d-e179-4c76-b5a7-7107c0c28722"
      },
      "outputs": [
        {
          "output_type": "stream",
          "name": "stdout",
          "text": [
            "0.9524490959485625 0.15044814340588988\n"
          ]
        }
      ],
      "source": [
        "model1 = RFC(n_estimators = 600,max_depth = 10,min_samples_split = 2,max_features = 'auto',min_samples_leaf = 2)\n",
        "model1.fit(X_train,y_train)\n",
        "y_pred1 = model1.predict_proba(X_test)\n",
        "y_pred11 = model1.predict(X_test)\n",
        "#  print(\"i = \",i,\"j = \",j)\n",
        "print(roc_auc_score(y_test,y_pred1[:,1]),type2_error(cm(y_test,y_pred11)))"
      ]
    },
    {
      "cell_type": "markdown",
      "metadata": {
        "id": "Ce0FsNp00TzY"
      },
      "source": [
        "### **2. Support Vector Classifier**"
      ]
    },
    {
      "cell_type": "code",
      "source": [
        "model2 = SVC()\n",
        "model2.fit(X_train,y_train)\n",
        "y_pred2 = model2.predict(X_test)\n",
        "accuracy(y_test,y_pred2),type2_error(cm(y_test,y_pred2))"
      ],
      "metadata": {
        "id": "8NXmn6RpqrlU",
        "outputId": "6251b811-68a9-4483-ec8f-b794d4ed9bd7",
        "colab": {
          "base_uri": "https://localhost:8080/"
        }
      },
      "execution_count": null,
      "outputs": [
        {
          "output_type": "execute_result",
          "data": {
            "text/plain": [
              "(0.8113854595336076, 0.21192893401015228)"
            ]
          },
          "metadata": {},
          "execution_count": 48
        }
      ]
    },
    {
      "cell_type": "code",
      "source": [
        "C = [0.1, 1, 10, 100, 1000]\n",
        "tol=[0.00001, 0.0001,0.001,0.01,0.1,1,10]\n",
        "max_iter =[100,200,300,500]\n",
        "opt = 1\n",
        "x=0\n",
        "y=0\n",
        "z=0\n",
        "for i in C:\n",
        "  for j in tol :\n",
        "    for k in max_iter :\n",
        "      model1 = SVC(C=i,tol=j,max_iter=k)\n",
        "      model1.fit(X_train,y_train)\n",
        "      y_pred1 = model1.predict(X_validation)\n",
        "      # print(\"i = \",i,\"j = \",j,\"k = \",k)\n",
        "      # print(type2_error(cm(y_validation,y_pred1)))\n",
        "      if(type2_error(cm(y_validation,y_pred1)) < opt):\n",
        "        opt = type2_error(cm(y_validation,y_pred1))\n",
        "        x=i\n",
        "        y=j\n",
        "        z=k\n",
        "\n",
        "print(x,y,z)\n",
        "print(opt)"
      ],
      "metadata": {
        "id": "4mtFNGJSq4gI",
        "outputId": "1272e26f-3504-40dd-bc33-33335f8bb2dc",
        "colab": {
          "base_uri": "https://localhost:8080/"
        }
      },
      "execution_count": null,
      "outputs": [
        {
          "output_type": "stream",
          "name": "stderr",
          "text": [
            "/usr/local/lib/python3.7/dist-packages/ipykernel_launcher.py:3: RuntimeWarning: invalid value encountered in long_scalars\n",
            "  This is separate from the ipykernel package so we can avoid doing imports until\n"
          ]
        },
        {
          "output_type": "stream",
          "name": "stdout",
          "text": [
            "1000 0.01 200\n",
            "0.08595988538681948\n"
          ]
        }
      ]
    },
    {
      "cell_type": "code",
      "source": [
        "model2 = SVC(C=1000,tol=0.01,max_iter=200)\n",
        "model2.fit(X_train,y_train)\n",
        "# y_pred2 = model2.predict_proba(X_test)\n",
        "y_pred22 = model2.predict(X_test)\n",
        "print(type2_error(cm(y_test,y_pred22)))"
      ],
      "metadata": {
        "id": "OMdIBfalscdx",
        "outputId": "5aeb3ed6-d6ba-4cee-bfb9-bff490327329",
        "colab": {
          "base_uri": "https://localhost:8080/"
        }
      },
      "execution_count": null,
      "outputs": [
        {
          "output_type": "stream",
          "name": "stdout",
          "text": [
            "0.0851528384279476\n"
          ]
        }
      ]
    },
    {
      "cell_type": "markdown",
      "metadata": {
        "id": "m1gL54ca0Tzc"
      },
      "source": [
        "### **3. XGBoost Classifier**"
      ]
    },
    {
      "cell_type": "code",
      "execution_count": null,
      "metadata": {
        "colab": {
          "base_uri": "https://localhost:8080/"
        },
        "id": "rAtYke786OqN",
        "outputId": "9fe7e181-4959-4c42-ef73-e7ef814b2913"
      },
      "outputs": [
        {
          "data": {
            "text/plain": [
              "(0.8439643347050755, 0.17790622992935132)"
            ]
          },
          "execution_count": 146,
          "metadata": {},
          "output_type": "execute_result"
        }
      ],
      "source": [
        "model3 = XGBC()\n",
        "model3.fit(X_train,y_train)\n",
        "y_pred3 = model3.predict(X_test)\n",
        "accuracy(y_test,y_pred3),type2_error(cm(y_test,y_pred3))\n"
      ]
    },
    {
      "cell_type": "code",
      "execution_count": null,
      "metadata": {
        "colab": {
          "base_uri": "https://localhost:8080/"
        },
        "id": "R2oagG4r6o0C",
        "outputId": "da857f22-4b7e-4f6c-c4da-9206ad41e6f3"
      },
      "outputs": [
        {
          "name": "stdout",
          "output_type": "stream",
          "text": [
            "i =  1\n",
            "0.8638589618021547 0.15247895229186156\n",
            "i =  2\n",
            "0.8907933398628796 0.129182156133829\n",
            "i =  3\n",
            "0.915279138099902 0.10740740740740741\n",
            "i =  4\n",
            "0.9265426052889324 0.09563602599814298\n",
            "i =  5\n",
            "0.9353574926542605 0.09107635694572216\n",
            "i =  6\n",
            "0.93486777668952 0.08426966292134831\n",
            "i =  7\n",
            "0.9417238001958864 0.07612781954887218\n",
            "i =  8\n",
            "0.9407443682664055 0.07627118644067797\n",
            "i =  9\n",
            "0.9382957884427032 0.0813844714686623\n"
          ]
        }
      ],
      "source": [
        "for i in range(1,10):\n",
        "  model1 = XGBC(n_estimators = 100 + 50*i,eta = 0.1*i,subsample = 0.1*i,max_depth = 2+i,min_samples_split = 2+ 2*i,min_samples_leaf = 2+2*i)\n",
        "  model1.fit(X_train,y_train)\n",
        "  y_pred1 = model1.predict(X_validation)\n",
        "  print(\"i = \",i)\n",
        "  print(accuracy(y_validation,y_pred1),type2_error(cm(y_validation,y_pred1)))\n"
      ]
    },
    {
      "cell_type": "code",
      "execution_count": null,
      "metadata": {
        "id": "_bOPDAv-7xfF"
      },
      "outputs": [],
      "source": [
        "min_samples_split = [2,3,5,7,10,15,20]\n",
        "min_samples_leaf = [2,3,5,7,10,15,20]\n",
        "for i in min_samples_leaf:\n",
        "  for j in min_samples_split :\n",
        "    model1 = XGBC(n_estimators = 450,eta = 0.7,max_depth = 9,subsample=0.7,min_samples_split = j,min_samples_leaf = i)\n",
        "    model1.fit(X_train,y_train)\n",
        "    y_pred1 = model1.predict(X_validation)\n",
        "    print(\"i = \",i,\"j = \",j)\n",
        "    print(accuracy(y_validation,y_pred1),type2_error(cm(y_validation,y_pred1)))"
      ]
    },
    {
      "cell_type": "code",
      "execution_count": null,
      "metadata": {
        "colab": {
          "base_uri": "https://localhost:8080/"
        },
        "id": "J7CIps9w9OfG",
        "outputId": "15e7d330-8a5c-4e13-9ded-8881297acc9b"
      },
      "outputs": [
        {
          "name": "stdout",
          "output_type": "stream",
          "text": [
            "i =  2 j =  300\n",
            "0.8790401567091087 0.14495412844036698\n",
            "i =  2 j =  350\n",
            "0.8839373163565132 0.14036697247706423\n",
            "i =  2 j =  400\n",
            "0.8878550440744368 0.1326530612244898\n",
            "i =  2 j =  450\n",
            "0.8893241919686582 0.13023255813953488\n",
            "i =  2 j =  500\n",
            "0.8952007835455436 0.12465116279069767\n",
            "i =  2 j =  550\n",
            "0.8952007835455436 0.12742382271468145\n",
            "i =  2 j =  600\n",
            "0.8971596474045054 0.12418906394810009\n",
            "i =  2 j =  650\n",
            "0.9000979431929481 0.12\n",
            "i =  2 j =  700\n",
            "0.9040156709108716 0.11556383970177074\n",
            "i =  3 j =  300\n",
            "0.9040156709108716 0.11770157553290084\n",
            "i =  3 j =  350\n",
            "0.905484818805093 0.11595547309833024\n",
            "i =  3 j =  400\n",
            "0.9128305582761999 0.10717614165890028\n",
            "i =  3 j =  450\n",
            "0.9162585700293829 0.1042830540037244\n",
            "i =  3 j =  500\n",
            "0.9182174338883448 0.10242085661080075\n",
            "i =  3 j =  550\n",
            "0.9191968658178257 0.09774436090225563\n",
            "i =  3 j =  600\n",
            "0.921645445641528 0.09878844361602983\n",
            "i =  3 j =  650\n",
            "0.9270323212536729 0.09099437148217636\n",
            "i =  3 j =  700\n",
            "0.9255631733594515 0.09278350515463918\n",
            "i =  5 j =  300\n",
            "0.9294809010773751 0.09133271202236719\n",
            "i =  5 j =  350\n",
            "0.9294809010773751 0.09360518999073215\n",
            "i =  5 j =  400\n",
            "0.9343780607247796 0.0882079851439183\n",
            "i =  5 j =  450\n",
            "0.93486777668952 0.08582089552238806\n",
            "i =  5 j =  500\n",
            "0.9363369245837414 0.0832553788587465\n",
            "i =  5 j =  550\n",
            "0.9392752203721841 0.08044901777362021\n",
            "i =  5 j =  600\n",
            "0.9387855044074437 0.07894736842105263\n",
            "i =  5 j =  650\n",
            "0.9392752203721841 0.07966260543580131\n",
            "i =  5 j =  700\n",
            "0.9387855044074437 0.07815442561205273\n",
            "i =  7 j =  300\n",
            "0.9407443682664055 0.0794392523364486\n",
            "i =  7 j =  350\n",
            "0.9431929480901078 0.07511737089201878\n",
            "i =  7 j =  400\n",
            "0.9422135161606269 0.07605633802816901\n",
            "i =  7 j =  450\n",
            "0.9422135161606269 0.07445805843543826\n",
            "i =  7 j =  500\n",
            "0.9422135161606269 0.07605633802816901\n",
            "i =  7 j =  550\n",
            "0.9417238001958864 0.07612781954887218\n",
            "i =  7 j =  600\n",
            "0.9407443682664055 0.07627118644067797\n",
            "i =  7 j =  650\n",
            "0.9422135161606269 0.07525870178739416\n",
            "i =  7 j =  700\n",
            "0.9431929480901078 0.07431796801505174\n",
            "i =  10 j =  300\n",
            "0.9363369245837414 0.08403361344537816\n",
            "i =  10 j =  350\n",
            "0.935847208619001 0.0825515947467167\n",
            "i =  10 j =  400\n",
            "0.9368266405484819 0.08239700374531835\n",
            "i =  10 j =  450\n",
            "0.9368266405484819 0.0800376647834275\n",
            "i =  10 j =  500\n",
            "0.9382957884427032 0.07981220657276995\n",
            "i =  10 j =  550\n",
            "0.9363369245837414 0.08090310442144873\n",
            "i =  10 j =  600\n",
            "0.9363369245837414 0.08090310442144873\n",
            "i =  10 j =  650\n",
            "0.9378060724779628 0.07750472589792061\n",
            "i =  10 j =  700\n",
            "0.9373163565132223 0.07917059377945335\n",
            "i =  15 j =  300\n",
            "0.9373163565132223 0.08542246982358404\n",
            "i =  15 j =  350\n",
            "0.9392752203721841 0.08201304753028892\n",
            "i =  15 j =  400\n",
            "0.9387855044074437 0.08364312267657993\n",
            "i =  15 j =  450\n",
            "0.9387855044074437 0.08286778398510242\n",
            "i =  15 j =  500\n",
            "0.9397649363369246 0.08115671641791045\n",
            "i =  15 j =  550\n",
            "0.9378060724779628 0.0830223880597015\n",
            "i =  15 j =  600\n",
            "0.9392752203721841 0.08123249299719888\n",
            "i =  15 j =  650\n",
            "0.9378060724779628 0.0830223880597015\n",
            "i =  15 j =  700\n",
            "0.9392752203721841 0.08044901777362021\n",
            "i =  20 j =  300\n",
            "0.935847208619001 0.08796296296296297\n",
            "i =  20 j =  350\n",
            "0.935847208619001 0.0856610800744879\n",
            "i =  20 j =  400\n",
            "0.935847208619001 0.08643122676579926\n",
            "i =  20 j =  450\n",
            "0.9368266405484819 0.0862708719851577\n",
            "i =  20 j =  500\n",
            "0.9368266405484819 0.0862708719851577\n",
            "i =  20 j =  550\n",
            "0.935847208619001 0.0856610800744879\n",
            "i =  20 j =  600\n",
            "0.9373163565132223 0.08542246982358404\n",
            "i =  20 j =  650\n",
            "0.9378060724779628 0.08379888268156424\n",
            "i =  20 j =  700\n",
            "0.9373163565132223 0.08309990662931839\n"
          ]
        }
      ],
      "source": [
        "n_estimators = [300,350,400,450,500,550,600,650,700]\n",
        "max_depth = [2,3,5,7,10,15,20]\n",
        "for i in max_depth:\n",
        "  for j in n_estimators :\n",
        "    model1 = XGBC(n_estimators = j,eta = 0.7,max_depth = i,subsample=0.7)\n",
        "    model1.fit(X_train,y_train)\n",
        "    y_pred1 = model1.predict(X_validation)\n",
        "    print(\"i = \",i,\"j = \",j)\n",
        "    print(accuracy(y_validation,y_pred1),type2_error(cm(y_validation,y_pred1)))"
      ]
    },
    {
      "cell_type": "code",
      "execution_count": null,
      "metadata": {
        "colab": {
          "base_uri": "https://localhost:8080/"
        },
        "id": "RRkAvelB-Um8",
        "outputId": "518e557f-fb3f-49f8-918e-230a7068839c"
      },
      "outputs": [
        {
          "name": "stdout",
          "output_type": "stream",
          "text": [
            "i =  0.01 j =  0.4\n",
            "0.9343780607247796 0.08278457196613359\n",
            "i =  0.01 j =  0.5\n",
            "0.9338883447600391 0.08675373134328358\n",
            "i =  0.01 j =  0.6\n",
            "0.9387855044074437 0.08052434456928839\n",
            "i =  0.01 j =  0.7\n",
            "0.9431929480901078 0.07431796801505174\n",
            "i =  0.01 j =  0.8\n",
            "0.9417238001958864 0.07532956685499058\n",
            "i =  0.01 j =  0.9\n",
            "0.9422135161606269 0.0728476821192053\n",
            "i =  0.01 j =  1\n",
            "0.9427032321253673 0.07196969696969698\n",
            "i =  0.1 j =  0.4\n",
            "0.9343780607247796 0.08278457196613359\n",
            "i =  0.1 j =  0.5\n",
            "0.9338883447600391 0.08675373134328358\n",
            "i =  0.1 j =  0.6\n",
            "0.9387855044074437 0.08052434456928839\n",
            "i =  0.1 j =  0.7\n",
            "0.9431929480901078 0.07431796801505174\n",
            "i =  0.1 j =  0.8\n",
            "0.9417238001958864 0.07532956685499058\n",
            "i =  0.1 j =  0.9\n",
            "0.9422135161606269 0.0728476821192053\n",
            "i =  0.1 j =  1\n",
            "0.9427032321253673 0.07196969696969698\n",
            "i =  0.2 j =  0.4\n",
            "0.9343780607247796 0.08278457196613359\n",
            "i =  0.2 j =  0.5\n",
            "0.9338883447600391 0.08675373134328358\n",
            "i =  0.2 j =  0.6\n",
            "0.9387855044074437 0.08052434456928839\n",
            "i =  0.2 j =  0.7\n",
            "0.9431929480901078 0.07431796801505174\n",
            "i =  0.2 j =  0.8\n",
            "0.9417238001958864 0.07532956685499058\n",
            "i =  0.2 j =  0.9\n",
            "0.9422135161606269 0.0728476821192053\n",
            "i =  0.2 j =  1\n",
            "0.9427032321253673 0.07196969696969698\n",
            "i =  0.5 j =  0.4\n",
            "0.9343780607247796 0.08278457196613359\n",
            "i =  0.5 j =  0.5\n",
            "0.9338883447600391 0.08675373134328358\n",
            "i =  0.5 j =  0.6\n",
            "0.9387855044074437 0.08052434456928839\n",
            "i =  0.5 j =  0.7\n",
            "0.9431929480901078 0.07431796801505174\n",
            "i =  0.5 j =  0.8\n",
            "0.9417238001958864 0.07532956685499058\n",
            "i =  0.5 j =  0.9\n",
            "0.9422135161606269 0.0728476821192053\n",
            "i =  0.5 j =  1\n",
            "0.9427032321253673 0.07196969696969698\n",
            "i =  0.7 j =  0.4\n",
            "0.9343780607247796 0.08278457196613359\n",
            "i =  0.7 j =  0.5\n",
            "0.9338883447600391 0.08675373134328358\n",
            "i =  0.7 j =  0.6\n",
            "0.9387855044074437 0.08052434456928839\n",
            "i =  0.7 j =  0.7\n",
            "0.9431929480901078 0.07431796801505174\n",
            "i =  0.7 j =  0.8\n",
            "0.9417238001958864 0.07532956685499058\n",
            "i =  0.7 j =  0.9\n",
            "0.9422135161606269 0.0728476821192053\n",
            "i =  0.7 j =  1\n",
            "0.9427032321253673 0.07196969696969698\n",
            "i =  0.8 j =  0.4\n",
            "0.9343780607247796 0.08278457196613359\n",
            "i =  0.8 j =  0.5\n",
            "0.9338883447600391 0.08675373134328358\n",
            "i =  0.8 j =  0.6\n",
            "0.9387855044074437 0.08052434456928839\n",
            "i =  0.8 j =  0.7\n",
            "0.9431929480901078 0.07431796801505174\n",
            "i =  0.8 j =  0.8\n",
            "0.9417238001958864 0.07532956685499058\n",
            "i =  0.8 j =  0.9\n",
            "0.9422135161606269 0.0728476821192053\n",
            "i =  0.8 j =  1\n",
            "0.9427032321253673 0.07196969696969698\n",
            "i =  0.9 j =  0.4\n",
            "0.9343780607247796 0.08278457196613359\n",
            "i =  0.9 j =  0.5\n",
            "0.9338883447600391 0.08675373134328358\n",
            "i =  0.9 j =  0.6\n",
            "0.9387855044074437 0.08052434456928839\n",
            "i =  0.9 j =  0.7\n",
            "0.9431929480901078 0.07431796801505174\n",
            "i =  0.9 j =  0.8\n",
            "0.9417238001958864 0.07532956685499058\n",
            "i =  0.9 j =  0.9\n",
            "0.9422135161606269 0.0728476821192053\n",
            "i =  0.9 j =  1\n",
            "0.9427032321253673 0.07196969696969698\n",
            "i =  1 j =  0.4\n",
            "0.9343780607247796 0.08278457196613359\n",
            "i =  1 j =  0.5\n",
            "0.9338883447600391 0.08675373134328358\n",
            "i =  1 j =  0.6\n",
            "0.9387855044074437 0.08052434456928839\n",
            "i =  1 j =  0.7\n",
            "0.9431929480901078 0.07431796801505174\n",
            "i =  1 j =  0.8\n",
            "0.9417238001958864 0.07532956685499058\n",
            "i =  1 j =  0.9\n",
            "0.9422135161606269 0.0728476821192053\n",
            "i =  1 j =  1\n",
            "0.9427032321253673 0.07196969696969698\n"
          ]
        }
      ],
      "source": [
        "subsample = [0.4,0.5,0.6,0.7,0.8,0.9,1]\n",
        "eta = [0.01,0.1,0.2,0.5,0.7,0.8,0.9,1]\n",
        "for i in eta:\n",
        "  for j in subsample :\n",
        "    model1 = XGBC(n_estimators = 700,eta = i,max_depth = 7,subsample=j)\n",
        "    model1.fit(X_train,y_train)\n",
        "    y_pred1 = model1.predict(X_validation)\n",
        "    print(\"i = \",i,\"j = \",j)\n",
        "    print(accuracy(y_validation,y_pred1),type2_error(cm(y_validation,y_pred1)))"
      ]
    },
    {
      "cell_type": "code",
      "execution_count": null,
      "metadata": {
        "colab": {
          "base_uri": "https://localhost:8080/"
        },
        "id": "MxxU5LN__PUO",
        "outputId": "749e4ec2-304d-42d0-b006-f8075b57c8aa"
      },
      "outputs": [
        {
          "output_type": "stream",
          "name": "stdout",
          "text": [
            "0.96053089618603 0.14702233250620347\n"
          ]
        }
      ],
      "source": [
        "model3 = XGBC(n_estimators = 700,eta = 0.08 ,max_depth = 7)\n",
        "model3.fit(X_train,y_train)\n",
        "y_pred3 = model3.predict_proba(X_test)\n",
        "y_pred33 = model3.predict(X_test)\n",
        "# y_pred1 = pd.DataFrame(y_pred1)\n",
        "    # print(\"i = \",i,\"j = \",j)\n",
        "print(roc_auc_score(y_test,y_pred3[:,1]),type2_error(cm(y_test,y_pred33)))"
      ]
    },
    {
      "cell_type": "markdown",
      "metadata": {
        "id": "6TItIY2Uw8dy"
      },
      "source": [
        "### **4. Multilayer Perceptron Classifier**"
      ]
    },
    {
      "cell_type": "code",
      "execution_count": null,
      "metadata": {
        "colab": {
          "base_uri": "https://localhost:8080/"
        },
        "id": "33Rdltm1xPio",
        "outputId": "7a3b0160-6418-476f-d1ef-bccd315b5021"
      },
      "outputs": [
        {
          "data": {
            "text/plain": [
              "0.15915300546448088"
            ]
          },
          "execution_count": 58,
          "metadata": {},
          "output_type": "execute_result"
        }
      ],
      "source": [
        "model4 = MLPC()\n",
        "model4.fit(X_train,y_train)\n",
        "y_pred4 = model4.predict(X_test)\n",
        "type2_error(cm(y_test,y_pred4))"
      ]
    },
    {
      "cell_type": "code",
      "execution_count": null,
      "metadata": {
        "colab": {
          "background_save": true,
          "base_uri": "https://localhost:8080/"
        },
        "id": "B9oSH0NBLPVA",
        "outputId": "933c8263-4fbb-42a0-a101-fddd0663d75f"
      },
      "outputs": [
        {
          "name": "stdout",
          "output_type": "stream",
          "text": [
            "i =  (64, 32, 16) j =  100\n",
            "0.19143117593436645\n",
            "i =  (64, 32, 16) j =  200\n",
            "0.18995433789954339\n",
            "i =  (64, 32, 16) j =  300\n",
            "0.15690168818272096\n",
            "i =  (64, 32, 16) j =  400\n",
            "0.19384057971014493\n",
            "i =  (64, 32, 16) j =  500\n",
            "0.17033492822966506\n",
            "i =  (64, 32, 16) j =  600\n",
            "0.14911366006256518\n",
            "i =  (64, 32, 16) j =  700\n",
            "0.16388616290480865\n",
            "i =  (128, 64, 32, 16) j =  100\n",
            "0.14822546972860126\n",
            "i =  (128, 64, 32, 16) j =  200\n",
            "0.17520969245107176\n",
            "i =  (128, 64, 32, 16) j =  300\n",
            "0.20202874049027894\n",
            "i =  (128, 64, 32, 16) j =  400\n",
            "0.16801437556154536\n",
            "i =  (128, 64, 32, 16) j =  500\n",
            "0.1638163816381638\n",
            "i =  (128, 64, 32, 16) j =  600\n",
            "0.18907198612315698\n",
            "i =  (128, 64, 32, 16) j =  700\n",
            "0.14940421631530706\n",
            "i =  (32, 32, 32) j =  100\n",
            "0.18005808325266215\n",
            "i =  (32, 32, 32) j =  200\n",
            "0.18855534709193245\n",
            "i =  (32, 32, 32) j =  300\n",
            "0.160481444332999\n",
            "i =  (32, 32, 32) j =  400\n",
            "0.15612648221343872\n",
            "i =  (32, 32, 32) j =  500\n",
            "0.2069271758436945\n",
            "i =  (32, 32, 32) j =  600\n",
            "0.17786187322611163\n",
            "i =  (32, 32, 32) j =  700\n",
            "0.17273576097105509\n",
            "i =  (64, 32) j =  100\n",
            "0.19083255378858746\n",
            "i =  (64, 32) j =  200\n",
            "0.1694417238001959\n",
            "i =  (64, 32) j =  300\n",
            "0.18963922294172064\n",
            "i =  (64, 32) j =  400\n",
            "0.1633045148895293\n",
            "i =  (64, 32) j =  500\n",
            "0.1739980449657869\n",
            "i =  (64, 32) j =  600\n",
            "0.17695852534562212\n",
            "i =  (64, 32) j =  700\n",
            "0.17669172932330826\n",
            "i =  (128, 32) j =  100\n",
            "0.16767676767676767\n",
            "i =  (128, 32) j =  200\n",
            "0.1953405017921147\n",
            "i =  (128, 32) j =  300\n",
            "0.16856060606060605\n",
            "i =  (128, 32) j =  400\n",
            "0.18198529411764705\n",
            "i =  (128, 32) j =  500\n",
            "0.1773308957952468\n",
            "i =  (128, 32) j =  600\n",
            "0.18584070796460178\n",
            "i =  (128, 32) j =  700\n",
            "0.1837686567164179\n"
          ]
        }
      ],
      "source": [
        "hidden_layers = [(64,32,16),(128,64,32,16),(32,32,32),(64,32),(128,32)]\n",
        "# max_iter = ['lbfgs','adam','sgd']\n",
        "max_iter = [100,200,300,400,500,600,700]\n",
        "# learning_rate = [0.001,0.01,0.1,0.2,0.5,0.6,0.7,0.9]\n",
        "for i in hidden_layers:\n",
        "  for j in max_iter :\n",
        "    model4 = MLPC(hidden_layer_sizes = i,max_iter=j)\n",
        "    model4.fit(X_train,y_train)\n",
        "    y_pred4 = model4.predict(X_validation)\n",
        "    print(\"i = \",i,\"j = \",j)\n",
        "    print(type2_error(cm(y_validation,y_pred4)))\n"
      ]
    },
    {
      "cell_type": "code",
      "source": [
        "# hidden_layers = [(64,32,16),(128,64,32,16),(32,32,32),(64,32),(128,32)]\n",
        "solver = ['lbfgs','adam','sgd']\n",
        "# max_iter = [100,200,300,400,500,600,700]\n",
        "learning_rate = [0.001,0.01,0.1,0.2]\n",
        "for i in solver:\n",
        "  for j in learning_rate :\n",
        "    model4 = MLPC(hidden_layer_sizes = (64, 32, 16),max_iter=600,solver=i,learning_rate_init=j)\n",
        "    model4.fit(X_train,y_train)\n",
        "    y_pred4 = model4.predict(X_validation)\n",
        "    print(\"i = \",i,\"j = \",j)\n",
        "    print(type2_error(cm(y_validation,y_pred4)))\n"
      ],
      "metadata": {
        "id": "kxxNymOvoN7M"
      },
      "execution_count": null,
      "outputs": []
    },
    {
      "cell_type": "code",
      "source": [
        "# hidden_layers = [(64,32,16),(128,64,32,16),(32,32,32),(64,32),(128,32)]\n",
        "# solver = ['lbfgs','adam','sgd']\n",
        "# max_iter = [100,200,300,400,500,600,700]\n",
        "# learning_rate = [0.001,0.01,0.1,0.2]\n",
        "activation = ['relu','tanh','logistic']\n",
        "for i in activation:\n",
        "  # for j in learning_rate :\n",
        "  model4 = MLPC(hidden_layer_sizes = (128,64, 32, 16),max_iter=600,solver='adam',learning_rate_init=0.01,activation = i)\n",
        "  model4.fit(X_train,y_train)\n",
        "  y_pred4 = model4.predict(X_validation)\n",
        "  print(\"i = \",i)\n",
        "  print(type2_error(cm(y_validation,y_pred4)))\n"
      ],
      "metadata": {
        "id": "YypD9n3AwU_T",
        "outputId": "0c37ae9b-fb7b-4ade-ac1f-92466b1d2460",
        "colab": {
          "base_uri": "https://localhost:8080/"
        }
      },
      "execution_count": null,
      "outputs": [
        {
          "output_type": "stream",
          "name": "stdout",
          "text": [
            "i =  relu\n",
            "0.1503690036900369\n",
            "i =  tanh\n",
            "0.14244741873804972\n",
            "i =  logistic\n",
            "0.17290552584670232\n"
          ]
        }
      ]
    },
    {
      "cell_type": "code",
      "source": [
        "model4 = MLPC(hidden_layer_sizes = (128,64, 32, 16),max_iter=600,solver='adam',learning_rate_init=0.01,activation = 'tanh')\n",
        "model4.fit(X_train,y_train)\n",
        "y_pred4 = model4.predict_proba(X_test)\n",
        "y_pred44 = model4.predict(X_test)\n",
        "print(roc_auc_score(y_test,y_pred4[:,1]),type2_error(cm(y_test,y_pred44)))"
      ],
      "metadata": {
        "id": "pAHX9D84xJTc",
        "outputId": "cdb916f5-027c-4592-d852-e7a3888ebd8a",
        "colab": {
          "base_uri": "https://localhost:8080/"
        }
      },
      "execution_count": null,
      "outputs": [
        {
          "output_type": "stream",
          "name": "stdout",
          "text": [
            "0.9422828686533407 0.15958102279728897\n"
          ]
        }
      ]
    },
    {
      "cell_type": "markdown",
      "source": [
        "### **5. KNN Classifier**"
      ],
      "metadata": {
        "id": "P7M9C7Vz3pGh"
      }
    },
    {
      "cell_type": "code",
      "source": [
        "acc_list=[]\n",
        "best_params=[]"
      ],
      "metadata": {
        "id": "BW45L-ig32cd"
      },
      "execution_count": null,
      "outputs": []
    },
    {
      "cell_type": "code",
      "source": [
        "n_neighbors = [5,7,9,11,13,15]\n",
        "weights = ['uniform','distance']\n",
        "metric = ['minkowski','euclidean','manhattan']\n"
      ],
      "metadata": {
        "id": "gw-zs5lRorx0"
      },
      "execution_count": null,
      "outputs": []
    },
    {
      "cell_type": "code",
      "source": [
        "for i in n_neighbors:\n",
        "  for j in weights:\n",
        "    for k in metric:\n",
        "      params_list=[]\n",
        "      knn_classifier = KNC(weights =  j, n_neighbors = i, metric = k) # Hyperparameters \n",
        "      knn_classifier.fit(X_train, y_train)                      \n",
        "      knn_predictions = knn_classifier.predict_proba(X_validation)\n",
        "      acc_list.append(roc_auc_score(y_validation , knn_predictions[:,1]))\n",
        "      params_list.append(i)\n",
        "      params_list.append(j)\n",
        "      params_list.append(k)\n",
        "      best_params.append(params_list)\n"
      ],
      "metadata": {
        "id": "HwTZsP1Lo57Z"
      },
      "execution_count": null,
      "outputs": []
    },
    {
      "cell_type": "code",
      "source": [
        "max(acc_list)"
      ],
      "metadata": {
        "colab": {
          "base_uri": "https://localhost:8080/"
        },
        "id": "_5cK6N2BrFZV",
        "outputId": "69f74a09-d87c-43e9-8b47-59e34a7ce4a2"
      },
      "execution_count": null,
      "outputs": [
        {
          "output_type": "execute_result",
          "data": {
            "text/plain": [
              "0.9505996022796495"
            ]
          },
          "metadata": {},
          "execution_count": 36
        }
      ]
    },
    {
      "cell_type": "code",
      "source": [
        "best_params[acc_list.index(max(acc_list))]"
      ],
      "metadata": {
        "colab": {
          "base_uri": "https://localhost:8080/"
        },
        "id": "lTr3swZ-rMgb",
        "outputId": "08c85cc9-e076-4f45-bc6a-50179fa9357a"
      },
      "execution_count": null,
      "outputs": [
        {
          "output_type": "execute_result",
          "data": {
            "text/plain": [
              "[15, 'distance', 'minkowski']"
            ]
          },
          "metadata": {},
          "execution_count": 38
        }
      ]
    },
    {
      "cell_type": "code",
      "source": [
        "model6 = KNC(weights =  'distance', n_neighbors = 15, metric = 'minkowski') \n",
        "model6.fit(X_train, y_train)    \n",
        "ypred6 = knn_classifier.predict_proba(X_test)    "
      ],
      "metadata": {
        "id": "ofjyqyMara1V"
      },
      "execution_count": null,
      "outputs": []
    },
    {
      "cell_type": "code",
      "source": [
        "print(roc_auc_score(y_test,ypred6[:,1]))"
      ],
      "metadata": {
        "colab": {
          "base_uri": "https://localhost:8080/"
        },
        "id": "bAkhwFWgr_8V",
        "outputId": "2f76612b-9318-45c6-b7f1-8de82b8ca319"
      },
      "execution_count": null,
      "outputs": [
        {
          "output_type": "stream",
          "name": "stdout",
          "text": [
            "0.947324820629195\n"
          ]
        }
      ]
    },
    {
      "cell_type": "code",
      "source": [
        "type2_error(cm(y_test, model6.predict(X_test)))"
      ],
      "metadata": {
        "colab": {
          "base_uri": "https://localhost:8080/"
        },
        "id": "C_LD8_i2sjgn",
        "outputId": "fdd446dc-98b7-4fb5-fb60-6531e209f449"
      },
      "execution_count": null,
      "outputs": [
        {
          "output_type": "execute_result",
          "data": {
            "text/plain": [
              "0.1873508353221957"
            ]
          },
          "metadata": {},
          "execution_count": 42
        }
      ]
    },
    {
      "cell_type": "code",
      "source": [
        ""
      ],
      "metadata": {
        "id": "nIPhfHh38oZZ"
      },
      "execution_count": null,
      "outputs": []
    },
    {
      "cell_type": "markdown",
      "metadata": {
        "id": "eGlHp_G7wiHX"
      },
      "source": [
        "##**Applying RandomizedSearchCV with cross validation to find out the optimal hyperparameters for the models**\n"
      ]
    },
    {
      "cell_type": "markdown",
      "metadata": {
        "id": "DVK5QmiVhmoB"
      },
      "source": [
        "### **1. Random Forest Classifier Model**\n"
      ]
    },
    {
      "cell_type": "code",
      "execution_count": null,
      "metadata": {
        "colab": {
          "base_uri": "https://localhost:8080/"
        },
        "id": "SHVxQF9Sh__N",
        "outputId": "2bc5fbc6-fe56-4734-fae7-8c267176d735"
      },
      "outputs": [
        {
          "name": "stdout",
          "output_type": "stream",
          "text": [
            "*************************************************************************************\n",
            "\n",
            "Fitting 5 folds for each of 10 candidates, totalling 50 fits\n",
            "*************************************************************************************\n",
            "\n",
            "Best parameters for Random Forest Classifier are: \n",
            "{'n_estimators': 200, 'min_samples_split': 20, 'min_samples_leaf': 40, 'max_depth': 9}\n",
            "\n",
            "*************************************************************************************\n",
            "\n"
          ]
        }
      ],
      "source": [
        "# Finding the optimal hyperparameters using RandomizedSearchCV along with cross validation\n",
        "\n",
        "\n",
        "# Parameter grid for Random Forest Classifier\n",
        "parameters_for_rfc = {\n",
        "        'n_estimators': [100,200,500,700,1000],\n",
        "        'max_depth': [3,5,7,9,11],\n",
        "        'min_samples_split': [20,40,60,80,100],\n",
        "        'min_samples_leaf': [20,40,60,80,100],\n",
        "}\n",
        "print(\"*************************************************************************************\\n\")\n",
        "\n",
        "\n",
        "# Finding the best hyperparameters using RandomizedSearchCV\n",
        "rfc_randomizedsearch = RandomizedSearchCV(estimator = RFC(), scoring='accuracy', param_distributions = parameters_for_rfc, return_train_score=True, verbose=1, cv=5)\n",
        "rfc_randomizedsearch.fit(X_train, y_train) \n",
        "best_parameters_for_rfc = rfc_randomizedsearch.best_params_ \n",
        "print(\"*************************************************************************************\\n\")\n",
        "print(\"Best parameters for Random Forest Classifier are: \")\n",
        "print(best_parameters_for_rfc)\n",
        "print(\"\\n*************************************************************************************\\n\")"
      ]
    },
    {
      "cell_type": "markdown",
      "metadata": {
        "id": "YSgJG2eBhrEs"
      },
      "source": [
        "### **2. Support Vector Classifier Model**\n"
      ]
    },
    {
      "cell_type": "code",
      "execution_count": null,
      "metadata": {
        "colab": {
          "base_uri": "https://localhost:8080/"
        },
        "id": "wi1v0CIfiiIA",
        "outputId": "443a4f2d-0c90-4b09-96b5-bc068993a102"
      },
      "outputs": [
        {
          "name": "stdout",
          "output_type": "stream",
          "text": [
            "*************************************************************************************\n",
            "\n",
            "Fitting 5 folds for each of 10 candidates, totalling 50 fits\n",
            "*************************************************************************************\n",
            "\n",
            "Best parameters for Linear Support Vector Classifier are: \n",
            "{'tol': 0.0001, 'max_iter': 300, 'C': 0.1}\n",
            "\n",
            "*************************************************************************************\n",
            "\n"
          ]
        }
      ],
      "source": [
        "# Finding the optimal hyperparameters using RandomizedSearchCV\n",
        "\n",
        "\n",
        "# Parameter grid for LinearSVC\n",
        "parameters_for_svc = {\n",
        "        'C': [0.1, 1, 10, 100, 1000],\n",
        "        'tol':[0.00001, 0.0001,0.001,0.01,0.1,1,10],\n",
        "        'max_iter':[100,200,300,500]\n",
        "}\n",
        "print(\"*************************************************************************************\\n\")\n",
        "\n",
        "# Finding the best hyperparameters using RandomizedSearchCV\n",
        "svc_randomizedsearch = RandomizedSearchCV(estimator = SVC(), scoring='accuracy', param_distributions = parameters_for_svc, return_train_score=True, verbose=1, cv=5)\n",
        "svc_randomizedsearch.fit(X_train, y_train) \n",
        "best_parameters_for_svc = svc_randomizedsearch.best_params_ \n",
        "print(\"*************************************************************************************\\n\")\n",
        "print(\"Best parameters for Linear Support Vector Classifier are: \")\n",
        "print(best_parameters_for_svc)\n",
        "print(\"\\n*************************************************************************************\\n\")"
      ]
    },
    {
      "cell_type": "markdown",
      "metadata": {
        "id": "sBEkzfftvcjf"
      },
      "source": [
        "### **3. XGBoost Classifier Model**\n"
      ]
    },
    {
      "cell_type": "code",
      "execution_count": null,
      "metadata": {
        "colab": {
          "base_uri": "https://localhost:8080/"
        },
        "id": "qSWP3dApilnH",
        "outputId": "72bb8fa2-efd2-43d3-dd61-5b6a178e128b"
      },
      "outputs": [
        {
          "name": "stdout",
          "output_type": "stream",
          "text": [
            "*************************************************************************************\n",
            "\n",
            "Fitting 5 folds for each of 10 candidates, totalling 50 fits\n",
            "*************************************************************************************\n",
            "\n",
            "Best parameters for XGBoost Classifier are: \n",
            "{'reg_lambda': 0.1, 'min_child_weight': 3, 'max_depth': 12, 'learning_rate': 0.15, 'gamma': 0.0, 'colsample_bytree': 0.3}\n",
            "\n",
            "*************************************************************************************\n",
            "\n"
          ]
        }
      ],
      "source": [
        "# Finding the optimal hyperparameters using RandomizedSearchCV along with cross validation\n",
        "# Parameter grid for XGBoost\n",
        "parameters_for_xgboost = {\n",
        "    'learning_rate' : [0.05,0.10,0.15,0.20,0.25,0.30],\n",
        "    'max_depth' : [ 3, 4, 5, 6, 8, 10, 12, 15],\n",
        "    'min_child_weight' : [ 1, 3, 5, 7 ],\n",
        "    'gamma': [ 0.0, 0.1, 0.2 , 0.3, 0.4 ],\n",
        "    'colsample_bytree' : [ 0.3, 0.4, 0.5 , 0.7],\n",
        "    'reg_lambda': [0.1, 1.0, 5.0, 10.0, 50.0, 100.0],\n",
        "}\n",
        "print(\"*************************************************************************************\\n\")\n",
        "\n",
        "# Finding the best hyperparameters using RandomizedSearchCV\n",
        "xgb_randomizedsearch = RandomizedSearchCV(XGBC(), parameters_for_xgboost, return_train_score=True, verbose=1, cv=5)\n",
        "xgb_randomizedsearch.fit(X_train, y_train) \n",
        "best_parameters_for_xgboost = xgb_randomizedsearch.best_params_ \n",
        "print(\"*************************************************************************************\\n\")\n",
        "print(\"Best parameters for XGBoost Classifier are: \")\n",
        "print(best_parameters_for_xgboost)\n",
        "print(\"\\n*************************************************************************************\\n\")"
      ]
    },
    {
      "cell_type": "markdown",
      "metadata": {
        "id": "O3x2ArNMtbYZ"
      },
      "source": [
        "### **4. KNN Classifier Model**"
      ]
    },
    {
      "cell_type": "code",
      "execution_count": null,
      "metadata": {
        "colab": {
          "base_uri": "https://localhost:8080/"
        },
        "id": "Cu2zMTIXtfFX",
        "outputId": "f610451d-b630-485c-c19e-82b5d76e24fa"
      },
      "outputs": [
        {
          "name": "stdout",
          "output_type": "stream",
          "text": [
            "*************************************************************************************\n",
            "\n",
            "Fitting 5 folds for each of 10 candidates, totalling 50 fits\n",
            "*************************************************************************************\n",
            "\n",
            "Best parameters for KNN Classifier are: \n",
            "{'weights': 'distance', 'n_neighbors': 5, 'metric': 'minkowski'}\n",
            "\n",
            "*************************************************************************************\n",
            "\n"
          ]
        }
      ],
      "source": [
        "# Finding the optimal hyperparameters using RandomizedSearchCV along with cross validation\n",
        "# Parameter grid for KNN\n",
        "parameters_for_knn = {\n",
        "    'n_neighbors' : [5,7,9,11,13,15],\n",
        "    'weights' : ['uniform','distance'],\n",
        "    'metric' : ['minkowski','euclidean','manhattan']\n",
        "}\n",
        "print(\"*************************************************************************************\\n\")\n",
        "\n",
        "\n",
        "# Finding the best hyperparameters using RandomizedSearchCV\n",
        "knn_randomizedsearch = RandomizedSearchCV(KNC(), parameters_for_knn, return_train_score=True, verbose=1, cv=5)\n",
        "knn_randomizedsearch.fit(X_train, y_train) \n",
        "best_parameters_for_knn = knn_randomizedsearch.best_params_ \n",
        "print(\"*************************************************************************************\\n\")\n",
        "print(\"Best parameters for KNN Classifier are: \")\n",
        "print(best_parameters_for_knn)\n",
        "print(\"\\n*************************************************************************************\\n\")"
      ]
    },
    {
      "cell_type": "markdown",
      "metadata": {
        "id": "n_JvnYahtf9-"
      },
      "source": [
        "### **5. MLP Classifier Model**\n"
      ]
    },
    {
      "cell_type": "code",
      "execution_count": null,
      "metadata": {
        "colab": {
          "base_uri": "https://localhost:8080/"
        },
        "id": "Te36RN7QtiTd",
        "outputId": "bf6cc8a8-c402-4100-8791-fb6c3af1c29a"
      },
      "outputs": [
        {
          "name": "stdout",
          "output_type": "stream",
          "text": [
            "*************************************************************************************\n",
            "\n",
            "Fitting 5 folds for each of 10 candidates, totalling 50 fits\n",
            "*************************************************************************************\n",
            "\n",
            "Best parameters for MLP Classifier are: \n",
            "{'max_iter': 500, 'learning_rate_init': 0.001, 'hidden_layer_sizes': (128, 64, 32, 16)}\n",
            "\n",
            "*************************************************************************************\n",
            "\n"
          ]
        }
      ],
      "source": [
        "# Finding the optimal hyperparameters using RandomizedSearchCV along with cross validation\n",
        "# Parameter grid for MLP\n",
        "parameters_for_mlp = {\n",
        "    'hidden_layer_sizes' : [(64,32,16),(128,64,32,16),(32,32,32),(64,32),(128,32)],\n",
        "    'max_iter': [100,200,300,400,500,600,700],\n",
        "    'learning_rate_init':[0.001,0.01,0.1,0.2,0.5,0.6,0.7,0.9, 1, 2, 3, 5],\n",
        "}\n",
        "print(\"*************************************************************************************\\n\")\n",
        "\n",
        "\n",
        "# Finding the best hyperparameters using RandomizedSearchCV\n",
        "mlp_randomizedsearch = RandomizedSearchCV(MLPC(), parameters_for_mlp, return_train_score=True, verbose=1, cv=5)\n",
        "mlp_randomizedsearch.fit(X_train, y_train) \n",
        "best_parameters_for_mlp = mlp_randomizedsearch.best_params_ \n",
        "print(\"*************************************************************************************\\n\")\n",
        "print(\"Best parameters for MLP Classifier are: \")\n",
        "print(best_parameters_for_mlp)\n",
        "print(\"\\n*************************************************************************************\\n\")"
      ]
    },
    {
      "cell_type": "markdown",
      "metadata": {
        "id": "-oxo06sj1ea-"
      },
      "source": [
        "## **Evaluation of the models with best hyperparameters on Validation Data**"
      ]
    },
    {
      "cell_type": "code",
      "execution_count": 23,
      "metadata": {
        "colab": {
          "base_uri": "https://localhost:8080/",
          "height": 719
        },
        "id": "q90gAXbZ0eH_",
        "outputId": "41f7460d-b841-411c-db93-c0232939b6d3"
      },
      "outputs": [
        {
          "output_type": "stream",
          "name": "stdout",
          "text": [
            "\n",
            "*************************************************************************************\n",
            "\n",
            "Accuracy obtained by Random Forest Classifier is : 0.8354755784061697\n",
            "F1 Score obtained by Random Forest Classifier is : 0.8461538461538461\n",
            "Precision obtained by Random Forest Classifier is : 0.7945823927765236\n",
            "Recall obtained by Random Forest Classifier is : 0.9048843187660668\n",
            "AUC score obtained by Random Forest Classifier is : 0.8354755784061698\n",
            "\n",
            "*************************************************************************************\n",
            "\n",
            "Type-1 Error obtained by Random Forest Classifier is : 0.09511568123393316\n",
            "Type-2 Error obtained by Random Forest Classifier is : 0.2054176072234763\n",
            "\n",
            "*************************************************************************************\n",
            "\n",
            "ROC Curve for Random Forest Classifier:\n",
            "\n"
          ]
        },
        {
          "output_type": "stream",
          "name": "stderr",
          "text": [
            "/usr/local/lib/python3.7/dist-packages/sklearn/utils/deprecation.py:87: FutureWarning: Function plot_roc_curve is deprecated; Function :func:`plot_roc_curve` is deprecated in 1.0 and will be removed in 1.2. Use one of the class methods: :meth:`sklearn.metric.RocCurveDisplay.from_predictions` or :meth:`sklearn.metric.RocCurveDisplay.from_estimator`.\n",
            "  warnings.warn(msg, category=FutureWarning)\n"
          ]
        },
        {
          "output_type": "stream",
          "name": "stdout",
          "text": [
            "\n",
            "*************************************************************************************\n",
            "\n"
          ]
        },
        {
          "output_type": "display_data",
          "data": {
            "text/plain": [
              "<Figure size 432x288 with 1 Axes>"
            ],
            "image/png": "[encoded data removed]"
          },
          "metadata": {
            "needs_background": "light"
          }
        }
      ],
      "source": [
        "# Evaluating the performance using Random Forest Classifier\n",
        "\n",
        "rfc_classifier = RFC(n_estimators = 1000, min_samples_split = 80, min_samples_leaf = 20, max_depth = 7) # Hyperparameters \n",
        "rfc_classifier.fit(X_train, y_train)                      \n",
        "rfc_predictions = rfc_classifier.predict(X_validation)  \n",
        "print(\"\\n*************************************************************************************\\n\")\n",
        "\n",
        "# Evaluating the performance on the test dataset\n",
        "print(\"Accuracy obtained by Random Forest Classifier is :\", accuracy(y_validation, rfc_predictions)) \n",
        "print(\"F1 Score obtained by Random Forest Classifier is :\", f1score(y_validation, rfc_predictions)) \n",
        "print(\"Precision obtained by Random Forest Classifier is :\", precision(y_validation, rfc_predictions))  \n",
        "print(\"Recall obtained by Random Forest Classifier is :\", recall(y_validation, rfc_predictions)) \n",
        "print(\"AUC score obtained by Random Forest Classifier is :\", roc_auc_score(y_validation, rfc_predictions)) \n",
        "print(\"\\n*************************************************************************************\\n\") \n",
        "\n",
        "\n",
        "# Calculating the Type-1 Error and Type-2 Errors\n",
        "print(\"Type-1 Error obtained by Random Forest Classifier is :\", cm(y_validation, rfc_predictions)[1][0]/(cm(y_validation, rfc_predictions)[1][0] + cm(y_validation, rfc_predictions)[1][1]))\n",
        "print(\"Type-2 Error obtained by Random Forest Classifier is :\", cm(y_validation, rfc_predictions)[0][1]/(cm(y_validation, rfc_predictions)[1][1] + cm(y_validation, rfc_predictions)[0][1]))\n",
        "print(\"\\n*************************************************************************************\\n\")\n",
        "\n",
        "\n",
        "# Plotting ROC curve for the model\n",
        "print(\"ROC Curve for Random Forest Classifier:\\n\")\n",
        "plot_roc_curve(rfc_classifier, X_validation, y_validation) \n",
        "print(\"\\n*************************************************************************************\\n\")"
      ]
    },
    {
      "cell_type": "code",
      "execution_count": null,
      "metadata": {
        "colab": {
          "base_uri": "https://localhost:8080/",
          "height": 700
        },
        "id": "EJMcDkU71k6a",
        "outputId": "669b6560-1c39-4a4d-f0bb-7a31c35b3873"
      },
      "outputs": [
        {
          "name": "stdout",
          "output_type": "stream",
          "text": [
            "*************************************************************************************\n",
            "\n",
            "Accuracy obtained by Linear Support Vector Classifier is : 0.8181233933161953\n",
            "F1 Score obtained by Linear Support Vector Classifier is : 0.8230143839899937\n",
            "Precision obtained by Linear Support Vector Classifier is : 0.8014616321559074\n",
            "Recall obtained by Linear Support Vector Classifier is : 0.8457583547557841\n",
            "AUC score obtained by Linear Support Vector Classifier is : 0.8181233933161953\n",
            "\n",
            "*************************************************************************************\n",
            "\n",
            "Type-1 Error obtained by Linear Support Vector Classifier is : 0.15424164524421594\n",
            "Type-2 Error obtained by Linear Support Vector Classifier is : 0.19853836784409257\n",
            "\n",
            "*************************************************************************************\n",
            "\n",
            "ROC Curve for Linear Support Vector Classifier:\n",
            "\n",
            "\n",
            "*************************************************************************************\n",
            "\n"
          ]
        },
        {
          "name": "stderr",
          "output_type": "stream",
          "text": [
            "/usr/local/lib/python3.7/dist-packages/sklearn/utils/deprecation.py:87: FutureWarning: Function plot_roc_curve is deprecated; Function :func:`plot_roc_curve` is deprecated in 1.0 and will be removed in 1.2. Use one of the class methods: :meth:`sklearn.metric.RocCurveDisplay.from_predictions` or :meth:`sklearn.metric.RocCurveDisplay.from_estimator`.\n",
            "  warnings.warn(msg, category=FutureWarning)\n"
          ]
        },
        {
          "data": {
            "image/png": "[encoded data removed]",
            "text/plain": [
              "<Figure size 432x288 with 1 Axes>"
            ]
          },
          "metadata": {},
          "output_type": "display_data"
        }
      ],
      "source": [
        "# Evaluating the performance using LinearSVC Classifier\n",
        "\n",
        "svc_classifier = SVC(tol = 1e-05, max_iter = 300, C = 0.1) # Hyperparameters \n",
        "svc_classifier.fit(X_train, y_train)                      \n",
        "svc_predictions = svc_classifier.predict(X_validation)  \n",
        "print(\"*************************************************************************************\\n\")\n",
        "\n",
        "# Evaluating the performance on the test dataset\n",
        "print(\"Accuracy obtained by Linear Support Vector Classifier is :\", accuracy(y_validation, svc_predictions)) \n",
        "print(\"F1 Score obtained by Linear Support Vector Classifier is :\", f1score(y_validation, svc_predictions)) \n",
        "print(\"Precision obtained by Linear Support Vector Classifier is :\", precision(y_validation, svc_predictions)) \n",
        "print(\"Recall obtained by Linear Support Vector Classifier is :\", recall(y_validation, svc_predictions)) \n",
        "print(\"AUC score obtained by Linear Support Vector Classifier is :\", roc_auc_score(y_validation, svc_predictions))\n",
        "print(\"\\n*************************************************************************************\\n\")\n",
        "\n",
        "\n",
        "# Calculating the Type-1 Error and Type-2 Errors\n",
        "print(\"Type-1 Error obtained by Linear Support Vector Classifier is :\", cm(y_validation, svc_predictions)[1][0] / (cm(y_validation, svc_predictions)[1][0] + cm(y_validation, svc_predictions)[1][1]))\n",
        "print(\"Type-2 Error obtained by Linear Support Vector Classifier is :\", cm(y_validation, svc_predictions)[0][1] / (cm(y_validation, svc_predictions)[0][1] + cm(y_validation, svc_predictions)[1][1]))\n",
        "print(\"\\n*************************************************************************************\\n\")\n",
        "\n",
        "\n",
        "# Plotting ROC curve for the model\n",
        "print(\"ROC Curve for Linear Support Vector Classifier:\\n\")\n",
        "plot_roc_curve(svc_classifier, X_validation, y_validation) \n",
        "print(\"\\n*************************************************************************************\\n\")"
      ]
    },
    {
      "cell_type": "code",
      "execution_count": 31,
      "metadata": {
        "colab": {
          "base_uri": "https://localhost:8080/",
          "height": 719
        },
        "id": "LAtJ2aZB1lkz",
        "outputId": "7ce8a903-9b71-480f-8892-42a8d739936c"
      },
      "outputs": [
        {
          "output_type": "stream",
          "name": "stdout",
          "text": [
            "\n",
            "*************************************************************************************\n",
            "\n",
            "Accuracy obtained by XGBoost Classifier is : 0.9447300771208226\n",
            "F1 Score obtained by XGBoost Classifier is : 0.9451530612244897\n",
            "Precision obtained by XGBoost Classifier is : 0.9379746835443038\n",
            "Recall obtained by XGBoost Classifier is : 0.9524421593830334\n",
            "AUC score obtained by XGBoost Classifier is : 0.9447300771208226\n",
            "\n",
            "*************************************************************************************\n",
            "\n",
            "Type-1 Error obtained by XGBoost Classifier is : 0.04755784061696658\n",
            "Type-2 Error obtained by XGBoost Classifier is : 0.0620253164556962\n",
            "\n",
            "*************************************************************************************\n",
            "\n",
            "ROC Curve for XGBoost Classifier: \n",
            "\n",
            "\n",
            "*************************************************************************************\n",
            "\n"
          ]
        },
        {
          "output_type": "stream",
          "name": "stderr",
          "text": [
            "/usr/local/lib/python3.7/dist-packages/sklearn/utils/deprecation.py:87: FutureWarning: Function plot_roc_curve is deprecated; Function :func:`plot_roc_curve` is deprecated in 1.0 and will be removed in 1.2. Use one of the class methods: :meth:`sklearn.metric.RocCurveDisplay.from_predictions` or :meth:`sklearn.metric.RocCurveDisplay.from_estimator`.\n",
            "  warnings.warn(msg, category=FutureWarning)\n"
          ]
        },
        {
          "output_type": "display_data",
          "data": {
            "text/plain": [
              "<Figure size 432x288 with 1 Axes>"
            ],
            "image/png": "[encoded data removed]"
          },
          "metadata": {
            "needs_background": "light"
          }
        }
      ],
      "source": [
        "# Evaluating the performance using XGB Classifier\n",
        "\n",
        "xgb_classifier = XGBC(reg_lambda = 1.0, min_child_weight = 1, max_depth = 10, learning_rate = 0.15, gamma = 0.2, colsample_bytree = 0.7) # Hyperparameters \n",
        "xgb_classifier.fit(X_train, y_train)                      \n",
        "xgb_predictions = xgb_classifier.predict(X_validation)  \n",
        "print(\"\\n*************************************************************************************\\n\")\n",
        "\n",
        "# Evaluating the performance on the test dataset\n",
        "print(\"Accuracy obtained by XGBoost Classifier is :\", accuracy(y_validation, xgb_predictions)) \n",
        "print(\"F1 Score obtained by XGBoost Classifier is :\", f1score(y_validation, xgb_predictions)) \n",
        "print(\"Precision obtained by XGBoost Classifier is :\", precision(y_validation, xgb_predictions)) \n",
        "print(\"Recall obtained by XGBoost Classifier is :\", recall(y_validation, xgb_predictions)) \n",
        "print(\"AUC score obtained by XGBoost Classifier is :\", roc_auc_score(y_validation, xgb_predictions))\n",
        "print(\"\\n*************************************************************************************\\n\")\n",
        "\n",
        "\n",
        "# Calculating the Type-1 Error and Type-2 Errors\n",
        "print(\"Type-1 Error obtained by XGBoost Classifier is :\", cm(y_validation, xgb_predictions)[1][0] / (cm(y_validation, xgb_predictions)[1][0] + cm(y_validation, xgb_predictions)[1][1]))\n",
        "print(\"Type-2 Error obtained by XGBoost Classifier is :\", cm(y_validation, xgb_predictions)[0][1] / (cm(y_validation, xgb_predictions)[0][1] + cm(y_validation, xgb_predictions)[1][1]))\n",
        "print(\"\\n*************************************************************************************\\n\")\n",
        "\n",
        "\n",
        "# Plotting ROC curve for the model\n",
        "print(\"ROC Curve for XGBoost Classifier:\", '\\n')\n",
        "plot_roc_curve(xgb_classifier, X_validation, y_validation) \n",
        "print(\"\\n*************************************************************************************\\n\")"
      ]
    },
    {
      "cell_type": "code",
      "execution_count": null,
      "metadata": {
        "colab": {
          "base_uri": "https://localhost:8080/",
          "height": 719
        },
        "id": "PeODLpbEx7In",
        "outputId": "d390b5ca-95ce-4ebb-c4da-9faf5d478f72"
      },
      "outputs": [
        {
          "name": "stdout",
          "output_type": "stream",
          "text": [
            "\n",
            "*************************************************************************************\n",
            "\n",
            "Accuracy obtained by KNN Classifier is : 0.8901028277634961\n",
            "F1 Score obtained by KNN Classifier is : 0.8970499698976521\n",
            "Precision obtained by KNN Classifier is : 0.8437146092865232\n",
            "Recall obtained by KNN Classifier is : 0.9575835475578406\n",
            "AUC score obtained by KNN Classifier is : 0.890102827763496\n",
            "\n",
            "*************************************************************************************\n",
            "\n",
            "Type-1 Error obtained by KNN Classifier is : 0.0407911001236094\n",
            "Type-2 Error obtained by KNN Classifier is : 0.1619718309859155\n",
            "\n",
            "*************************************************************************************\n",
            "\n",
            "ROC Curve for KNN Classifier:\n",
            "\n",
            "\n",
            "*************************************************************************************\n",
            "\n"
          ]
        },
        {
          "name": "stderr",
          "output_type": "stream",
          "text": [
            "/usr/local/lib/python3.7/dist-packages/sklearn/utils/deprecation.py:87: FutureWarning: Function plot_roc_curve is deprecated; Function :func:`plot_roc_curve` is deprecated in 1.0 and will be removed in 1.2. Use one of the class methods: :meth:`sklearn.metric.RocCurveDisplay.from_predictions` or :meth:`sklearn.metric.RocCurveDisplay.from_estimator`.\n",
            "  warnings.warn(msg, category=FutureWarning)\n"
          ]
        },
        {
          "data": {
            "image/png": "[encoded data removed]",
            "text/plain": [
              "<Figure size 432x288 with 1 Axes>"
            ]
          },
          "metadata": {},
          "output_type": "display_data"
        }
      ],
      "source": [
        "# Evaluating the performance using KNN Classifier\n",
        "\n",
        "knn_classifier = KNC(weights =  'distance', n_neighbors = 5, metric = 'minkowski') # Hyperparameters \n",
        "knn_classifier.fit(X_train, y_train)                      \n",
        "knn_predictions = knn_classifier.predict(X_validation)  \n",
        "print(\"\\n*************************************************************************************\\n\")\n",
        "\n",
        "# Evaluating the performance on the test dataset\n",
        "print(\"Accuracy obtained by KNN Classifier is :\", accuracy(y_validation, knn_predictions)) \n",
        "print(\"F1 Score obtained by KNN Classifier is :\", f1score(y_validation, knn_predictions)) \n",
        "print(\"Precision obtained by KNN Classifier is :\", precision(y_validation, knn_predictions))  \n",
        "print(\"Recall obtained by KNN Classifier is :\", recall(y_validation, knn_predictions)) \n",
        "print(\"AUC score obtained by KNN Classifier is :\", roc_auc_score(y_validation, knn_predictions)) \n",
        "print(\"\\n*************************************************************************************\\n\") \n",
        "\n",
        "\n",
        "# Calculating the Type-1 Error and Type-2 Errors\n",
        "print(\"Type-1 Error obtained by KNN Classifier is :\", cm(y_validation, knn_predictions)[1][0]/(cm(y_validation, rfc_predictions)[1][0] + cm(y_validation, knn_predictions)[1][1]))\n",
        "print(\"Type-2 Error obtained by KNN Classifier is :\", cm(y_validation, knn_predictions)[0][1]/(cm(y_validation, rfc_predictions)[1][1] + cm(y_validation, knn_predictions)[0][1]))\n",
        "print(\"\\n*************************************************************************************\\n\")\n",
        "\n",
        "\n",
        "# Plotting ROC curve for the model\n",
        "print(\"ROC Curve for KNN Classifier:\\n\")\n",
        "plot_roc_curve(knn_classifier, X_validation, y_validation) \n",
        "print(\"\\n*************************************************************************************\\n\")"
      ]
    },
    {
      "cell_type": "code",
      "execution_count": null,
      "metadata": {
        "colab": {
          "base_uri": "https://localhost:8080/",
          "height": 719
        },
        "id": "SAhDMUe2u-PS",
        "outputId": "4315e0bd-0b5e-4e12-c751-4f5c8989378d"
      },
      "outputs": [
        {
          "name": "stdout",
          "output_type": "stream",
          "text": [
            "\n",
            "*************************************************************************************\n",
            "\n",
            "Accuracy obtained by MLP Classifier is : 0.8862467866323908\n",
            "F1 Score obtained by MLP Classifier is : 0.8888888888888888\n",
            "Precision obtained by MLP Classifier is : 0.8687116564417178\n",
            "Recall obtained by MLP Classifier is : 0.910025706940874\n",
            "AUC score obtained by MLP Classifier is : 0.8862467866323908\n",
            "\n",
            "*************************************************************************************\n",
            "\n",
            "Type-1 Error obtained by MLP Classifier is : 0.08997429305912596\n",
            "Type-2 Error obtained by MLP Classifier is : 0.1312883435582822\n",
            "\n",
            "*************************************************************************************\n",
            "\n",
            "ROC Curve for MLP Classifier:\n",
            "\n",
            "\n",
            "*************************************************************************************\n",
            "\n"
          ]
        },
        {
          "name": "stderr",
          "output_type": "stream",
          "text": [
            "/usr/local/lib/python3.7/dist-packages/sklearn/utils/deprecation.py:87: FutureWarning: Function plot_roc_curve is deprecated; Function :func:`plot_roc_curve` is deprecated in 1.0 and will be removed in 1.2. Use one of the class methods: :meth:`sklearn.metric.RocCurveDisplay.from_predictions` or :meth:`sklearn.metric.RocCurveDisplay.from_estimator`.\n",
            "  warnings.warn(msg, category=FutureWarning)\n"
          ]
        },
        {
          "data": {
            "image/png": "[encoded data removed]",
            "text/plain": [
              "<Figure size 432x288 with 1 Axes>"
            ]
          },
          "metadata": {},
          "output_type": "display_data"
        }
      ],
      "source": [
        "# Evaluating the performance using MLP Classifier\n",
        "\n",
        "mlp_classifier = MLPC(max_iter = 500, learning_rate_init = 0.001, hidden_layer_sizes = (128, 64, 32, 16)) # Hyperparameters \n",
        "mlp_classifier.fit(X_train, y_train)                      \n",
        "mlp_predictions = mlp_classifier.predict(X_validation)  \n",
        "print(\"\\n*************************************************************************************\\n\")\n",
        "\n",
        "# Evaluating the performance on the test dataset\n",
        "print(\"Accuracy obtained by MLP Classifier is :\", accuracy(y_validation, mlp_predictions)) \n",
        "print(\"F1 Score obtained by MLP Classifier is :\", f1score(y_validation, mlp_predictions)) \n",
        "print(\"Precision obtained by MLP Classifier is :\", precision(y_validation, mlp_predictions))  \n",
        "print(\"Recall obtained by MLP Classifier is :\", recall(y_validation, mlp_predictions)) \n",
        "print(\"AUC score obtained by MLP Classifier is :\", roc_auc_score(y_validation, mlp_predictions)) \n",
        "print(\"\\n*************************************************************************************\\n\") \n",
        "\n",
        "\n",
        "# Calculating the Type-1 Error and Type-2 Errors\n",
        "print(\"Type-1 Error obtained by MLP Classifier is :\", cm(y_validation, mlp_predictions)[1][0]/(cm(y_validation, mlp_predictions)[1][0] + cm(y_validation, mlp_predictions)[1][1]))\n",
        "print(\"Type-2 Error obtained by MLP Classifier is :\", cm(y_validation, mlp_predictions)[0][1]/(cm(y_validation, mlp_predictions)[1][1] + cm(y_validation, mlp_predictions)[0][1]))\n",
        "print(\"\\n*************************************************************************************\\n\")\n",
        "\n",
        "\n",
        "# Plotting ROC curve for the model\n",
        "print(\"ROC Curve for MLP Classifier:\\n\")\n",
        "plot_roc_curve(mlp_classifier, X_validation, y_validation) \n",
        "print(\"\\n*************************************************************************************\\n\")"
      ]
    },
    {
      "cell_type": "markdown",
      "metadata": {
        "id": "xd6UAmWQ2F-P"
      },
      "source": [
        "## **Making Predictions on Unseen Data**"
      ]
    },
    {
      "cell_type": "code",
      "execution_count": 25,
      "metadata": {
        "id": "WQxBOmiPstCv"
      },
      "outputs": [],
      "source": [
        "# Using Min-Max Scaler to scale the data\n",
        "scaler = MMS()\n",
        "X_test['bmi'] = scaler.fit_transform(pd.DataFrame(X_test['bmi']))\n",
        "X_test['avg_glucose_level'] = scaler.fit_transform(pd.DataFrame(X_test['avg_glucose_level']))\n",
        "X_test['age'] = scaler.fit_transform(pd.DataFrame(X_test['age']))"
      ]
    },
    {
      "cell_type": "code",
      "execution_count": 26,
      "metadata": {
        "colab": {
          "base_uri": "https://localhost:8080/",
          "height": 719
        },
        "id": "7M_IrHWtsxsq",
        "outputId": "457e5b1e-9625-4dda-8ff0-a7c00ded44a1"
      },
      "outputs": [
        {
          "output_type": "stream",
          "name": "stdout",
          "text": [
            "\n",
            "*************************************************************************************\n",
            "\n",
            "Accuracy obtained by Random Forest Classifier is : 0.8329048843187661\n",
            "F1 Score obtained by Random Forest Classifier is : 0.8388696083292019\n",
            "Precision obtained by Random Forest Classifier is : 0.8095693779904306\n",
            "Recall obtained by Random Forest Classifier is : 0.8703703703703703\n",
            "AUC score obtained by Random Forest Classifier is : 0.8329241368809713\n",
            "\n",
            "*************************************************************************************\n",
            "\n",
            "Type-1 Error obtained by Random Forest Classifier is : 0.12962962962962962\n",
            "Type-2 Error obtained by Random Forest Classifier is : 0.19043062200956937\n",
            "\n",
            "*************************************************************************************\n",
            "\n",
            "ROC Curve for Random Forest Classifier:\n",
            "\n"
          ]
        },
        {
          "output_type": "stream",
          "name": "stderr",
          "text": [
            "/usr/local/lib/python3.7/dist-packages/sklearn/utils/deprecation.py:87: FutureWarning: Function plot_roc_curve is deprecated; Function :func:`plot_roc_curve` is deprecated in 1.0 and will be removed in 1.2. Use one of the class methods: :meth:`sklearn.metric.RocCurveDisplay.from_predictions` or :meth:`sklearn.metric.RocCurveDisplay.from_estimator`.\n",
            "  warnings.warn(msg, category=FutureWarning)\n"
          ]
        },
        {
          "output_type": "stream",
          "name": "stdout",
          "text": [
            "\n",
            "*************************************************************************************\n",
            "\n"
          ]
        },
        {
          "output_type": "display_data",
          "data": {
            "text/plain": [
              "<Figure size 432x288 with 1 Axes>"
            ],
            "image/png": "[encoded data removed]"
          },
          "metadata": {
            "needs_background": "light"
          }
        }
      ],
      "source": [
        "rfc_test_predictions = rfc_classifier.predict(X_test)  \n",
        "\n",
        "print(\"\\n*************************************************************************************\\n\")\n",
        "\n",
        "# Evaluating the performance on the test dataset\n",
        "print(\"Accuracy obtained by Random Forest Classifier is :\", accuracy(y_test, rfc_test_predictions)) \n",
        "print(\"F1 Score obtained by Random Forest Classifier is :\", f1score(y_test, rfc_test_predictions)) \n",
        "print(\"Precision obtained by Random Forest Classifier is :\", precision(y_test, rfc_test_predictions))  \n",
        "print(\"Recall obtained by Random Forest Classifier is :\", recall(y_test, rfc_test_predictions)) \n",
        "print(\"AUC score obtained by Random Forest Classifier is :\", roc_auc_score(y_test, rfc_test_predictions)) \n",
        "print(\"\\n*************************************************************************************\\n\") \n",
        "\n",
        "\n",
        "# Calculating the Type-1 Error and Type-2 Errors\n",
        "print(\"Type-1 Error obtained by Random Forest Classifier is :\", cm(y_test, rfc_test_predictions)[1][0]/(cm(y_test, rfc_test_predictions)[1][0] + cm(y_test, rfc_test_predictions)[1][1]))\n",
        "print(\"Type-2 Error obtained by Random Forest Classifier is :\", cm(y_test, rfc_test_predictions)[0][1]/(cm(y_test, rfc_test_predictions)[1][1] + cm(y_test, rfc_test_predictions)[0][1]))\n",
        "print(\"\\n*************************************************************************************\\n\")\n",
        "\n",
        "\n",
        "# Plotting ROC curve for the model\n",
        "print(\"ROC Curve for Random Forest Classifier:\\n\")\n",
        "plot_roc_curve(rfc_classifier, X_test, y_test) \n",
        "print(\"\\n*************************************************************************************\\n\")"
      ]
    },
    {
      "cell_type": "code",
      "execution_count": null,
      "metadata": {
        "colab": {
          "base_uri": "https://localhost:8080/",
          "height": 700
        },
        "id": "8MqeftuIEyUq",
        "outputId": "100aa8ca-b01c-47c9-e6f1-4b5151b1dc6d"
      },
      "outputs": [
        {
          "name": "stdout",
          "output_type": "stream",
          "text": [
            "*************************************************************************************\n",
            "\n",
            "Accuracy obtained by Linear Support Vector Classifier is : 0.8004115226337448\n",
            "F1 Score obtained by Linear Support Vector Classifier is : 0.8081107814045501\n",
            "Precision obtained by Linear Support Vector Classifier is : 0.7780952380952381\n",
            "Recall obtained by Linear Support Vector Classifier is : 0.8405349794238683\n",
            "AUC score obtained by Linear Support Vector Classifier is : 0.8004115226337449\n",
            "\n",
            "*************************************************************************************\n",
            "\n",
            "Type-1 Error obtained by Linear Support Vector Classifier is : 0.15946502057613168\n",
            "Type-2 Error obtained by Linear Support Vector Classifier is : 0.2219047619047619\n",
            "\n",
            "*************************************************************************************\n",
            "\n",
            "ROC Curve for Linear Support Vector Classifier:\n",
            "\n",
            "\n",
            "*************************************************************************************\n",
            "\n"
          ]
        },
        {
          "name": "stderr",
          "output_type": "stream",
          "text": [
            "/usr/local/lib/python3.7/dist-packages/sklearn/utils/deprecation.py:87: FutureWarning: Function plot_roc_curve is deprecated; Function :func:`plot_roc_curve` is deprecated in 1.0 and will be removed in 1.2. Use one of the class methods: :meth:`sklearn.metric.RocCurveDisplay.from_predictions` or :meth:`sklearn.metric.RocCurveDisplay.from_estimator`.\n",
            "  warnings.warn(msg, category=FutureWarning)\n"
          ]
        },
        {
          "data": {
            "image/png": "[encoded data removed]",
            "text/plain": [
              "<Figure size 432x288 with 1 Axes>"
            ]
          },
          "metadata": {},
          "output_type": "display_data"
        }
      ],
      "source": [
        "svc_test_predictions = svc_classifier.predict(X_test)  \n",
        "print(\"*************************************************************************************\\n\")\n",
        "\n",
        "# Evaluating the performance on the test dataset\n",
        "print(\"Accuracy obtained by Linear Support Vector Classifier is :\", accuracy(y_test, svc_test_predictions)) \n",
        "print(\"F1 Score obtained by Linear Support Vector Classifier is :\", f1score(y_test, svc_test_predictions)) \n",
        "print(\"Precision obtained by Linear Support Vector Classifier is :\", precision(y_test, svc_test_predictions)) \n",
        "print(\"Recall obtained by Linear Support Vector Classifier is :\", recall(y_test, svc_test_predictions)) \n",
        "print(\"AUC score obtained by Linear Support Vector Classifier is :\", roc_auc_score(y_test, svc_test_predictions))\n",
        "print(\"\\n*************************************************************************************\\n\")\n",
        "\n",
        "\n",
        "# Calculating the Type-1 Error and Type-2 Errors\n",
        "print(\"Type-1 Error obtained by Linear Support Vector Classifier is :\", cm(y_test, svc_test_predictions)[1][0] / (cm(y_test, svc_test_predictions)[1][0] + cm(y_test, svc_test_predictions)[1][1]))\n",
        "print(\"Type-2 Error obtained by Linear Support Vector Classifier is :\", cm(y_test, svc_test_predictions)[0][1] / (cm(y_test, svc_test_predictions)[0][1] + cm(y_test, svc_test_predictions)[1][1]))\n",
        "print(\"\\n*************************************************************************************\\n\")\n",
        "\n",
        "\n",
        "# Plotting ROC curve for the model\n",
        "print(\"ROC Curve for Linear Support Vector Classifier:\\n\")\n",
        "plot_roc_curve(svc_classifier, X_test, y_test) \n",
        "print(\"\\n*************************************************************************************\\n\")"
      ]
    },
    {
      "cell_type": "code",
      "execution_count": null,
      "metadata": {
        "colab": {
          "base_uri": "https://localhost:8080/",
          "height": 719
        },
        "id": "t6mjWGA9EyHp",
        "outputId": "77984b12-a829-47eb-cbb3-aabb16889a06"
      },
      "outputs": [
        {
          "name": "stdout",
          "output_type": "stream",
          "text": [
            "\n",
            "*************************************************************************************\n",
            "\n",
            "Accuracy obtained by XGBoost Classifier is : 0.8801440329218106\n",
            "F1 Score obtained by XGBoost Classifier is : 0.8679886685552409\n",
            "Precision obtained by XGBoost Classifier is : 0.9659520807061791\n",
            "Recall obtained by XGBoost Classifier is : 0.7880658436213992\n",
            "AUC score obtained by XGBoost Classifier is : 0.8801440329218108\n",
            "\n",
            "*************************************************************************************\n",
            "\n",
            "Type-1 Error obtained by XGBoost Classifier is : 0.21193415637860083\n",
            "Type-2 Error obtained by XGBoost Classifier is : 0.034047919293820936\n",
            "\n",
            "*************************************************************************************\n",
            "\n",
            "ROC Curve for XGBoost Classifier: \n",
            "\n",
            "\n",
            "*************************************************************************************\n",
            "\n"
          ]
        },
        {
          "name": "stderr",
          "output_type": "stream",
          "text": [
            "/usr/local/lib/python3.7/dist-packages/sklearn/utils/deprecation.py:87: FutureWarning: Function plot_roc_curve is deprecated; Function :func:`plot_roc_curve` is deprecated in 1.0 and will be removed in 1.2. Use one of the class methods: :meth:`sklearn.metric.RocCurveDisplay.from_predictions` or :meth:`sklearn.metric.RocCurveDisplay.from_estimator`.\n",
            "  warnings.warn(msg, category=FutureWarning)\n"
          ]
        },
        {
          "data": {
            "image/png": "[encoded data removed]",
            "text/plain": [
              "<Figure size 432x288 with 1 Axes>"
            ]
          },
          "metadata": {},
          "output_type": "display_data"
        }
      ],
      "source": [
        "xgb_test_predictions = xgb_classifier.predict(X_test)  \n",
        "print(\"\\n*************************************************************************************\\n\")\n",
        "\n",
        "# Evaluating the performance on the test dataset\n",
        "print(\"Accuracy obtained by XGBoost Classifier is :\", accuracy(y_test, xgb_test_predictions)) \n",
        "print(\"F1 Score obtained by XGBoost Classifier is :\", f1score(y_test, xgb_test_predictions)) \n",
        "print(\"Precision obtained by XGBoost Classifier is :\", precision(y_test, xgb_test_predictions)) \n",
        "print(\"Recall obtained by XGBoost Classifier is :\", recall(y_test, xgb_test_predictions)) \n",
        "print(\"AUC score obtained by XGBoost Classifier is :\", roc_auc_score(y_test, xgb_test_predictions))\n",
        "print(\"\\n*************************************************************************************\\n\")\n",
        "\n",
        "\n",
        "# Calculating the Type-1 Error and Type-2 Errors\n",
        "print(\"Type-1 Error obtained by XGBoost Classifier is :\", cm(y_test, xgb_test_predictions)[1][0] / (cm(y_test, xgb_test_predictions)[1][0] + cm(y_test, xgb_test_predictions)[1][1]))\n",
        "print(\"Type-2 Error obtained by XGBoost Classifier is :\", cm(y_test, xgb_test_predictions)[0][1] / (cm(y_test, xgb_test_predictions)[0][1] + cm(y_test, xgb_test_predictions)[1][1]))\n",
        "print(\"\\n*************************************************************************************\\n\")\n",
        "\n",
        "\n",
        "# Plotting ROC curve for the model\n",
        "print(\"ROC Curve for XGBoost Classifier:\", '\\n')\n",
        "plot_roc_curve(xgb_classifier, X_test, y_test) \n",
        "print(\"\\n*************************************************************************************\\n\")"
      ]
    },
    {
      "cell_type": "code",
      "execution_count": null,
      "metadata": {
        "colab": {
          "base_uri": "https://localhost:8080/",
          "height": 719
        },
        "id": "BaVHZFMUydHY",
        "outputId": "957b4643-b6e5-407e-a04f-14ce93294ac5"
      },
      "outputs": [
        {
          "name": "stdout",
          "output_type": "stream",
          "text": [
            "\n",
            "*************************************************************************************\n",
            "\n",
            "Accuracy obtained by KNN Classifier is : 0.8132716049382716\n",
            "F1 Score obtained by KNN Classifier is : 0.8125967991739803\n",
            "Precision obtained by KNN Classifier is : 0.8155440414507772\n",
            "Recall obtained by KNN Classifier is : 0.8096707818930041\n",
            "AUC score obtained by KNN Classifier is : 0.8132716049382717\n",
            "\n",
            "*************************************************************************************\n",
            "\n",
            "Type-1 Error obtained by KNN Classifier is : 0.19032921810699588\n",
            "Type-2 Error obtained by KNN Classifier is : 0.1844559585492228\n",
            "\n",
            "*************************************************************************************\n",
            "\n",
            "ROC Curve for KNN Classifier:\n",
            "\n",
            "\n",
            "*************************************************************************************\n",
            "\n"
          ]
        },
        {
          "name": "stderr",
          "output_type": "stream",
          "text": [
            "/usr/local/lib/python3.7/dist-packages/sklearn/utils/deprecation.py:87: FutureWarning: Function plot_roc_curve is deprecated; Function :func:`plot_roc_curve` is deprecated in 1.0 and will be removed in 1.2. Use one of the class methods: :meth:`sklearn.metric.RocCurveDisplay.from_predictions` or :meth:`sklearn.metric.RocCurveDisplay.from_estimator`.\n",
            "  warnings.warn(msg, category=FutureWarning)\n"
          ]
        },
        {
          "data": {
            "image/png": "[encoded data removed]",
            "text/plain": [
              "<Figure size 432x288 with 1 Axes>"
            ]
          },
          "metadata": {},
          "output_type": "display_data"
        }
      ],
      "source": [
        "knn_test_predictions = knn_classifier.predict(X_test)  \n",
        "print(\"\\n*************************************************************************************\\n\")\n",
        "\n",
        "# Evaluating the performance on the test dataset\n",
        "print(\"Accuracy obtained by KNN Classifier is :\", accuracy(y_test, knn_test_predictions)) \n",
        "print(\"F1 Score obtained by KNN Classifier is :\", f1score(y_test, knn_test_predictions)) \n",
        "print(\"Precision obtained by KNN Classifier is :\", precision(y_test, knn_test_predictions))  \n",
        "print(\"Recall obtained by KNN Classifier is :\", recall(y_test, knn_test_predictions)) \n",
        "print(\"AUC score obtained by KNN Classifier is :\", roc_auc_score(y_test, knn_test_predictions)) \n",
        "print(\"\\n*************************************************************************************\\n\") \n",
        "\n",
        "\n",
        "# Calculating the Type-1 Error and Type-2 Errors\n",
        "print(\"Type-1 Error obtained by KNN Classifier is :\", cm(y_test, knn_test_predictions)[1][0]/(cm(y_test, knn_test_predictions)[1][0] + cm(y_test, knn_test_predictions)[1][1]))\n",
        "print(\"Type-2 Error obtained by KNN Classifier is :\", cm(y_test, knn_test_predictions)[0][1]/(cm(y_test, knn_test_predictions)[1][1] + cm(y_test, knn_test_predictions)[0][1]))\n",
        "print(\"\\n*************************************************************************************\\n\")\n",
        "\n",
        "\n",
        "# Plotting ROC curve for the model\n",
        "print(\"ROC Curve for KNN Classifier:\\n\")\n",
        "plot_roc_curve(knn_classifier, X_test, y_test) \n",
        "print(\"\\n*************************************************************************************\\n\")"
      ]
    },
    {
      "cell_type": "code",
      "execution_count": null,
      "metadata": {
        "colab": {
          "base_uri": "https://localhost:8080/",
          "height": 719
        },
        "id": "cLjkIzsPwLYS",
        "outputId": "4943e15f-6d73-4bea-ce73-29269b15f715"
      },
      "outputs": [
        {
          "name": "stdout",
          "output_type": "stream",
          "text": [
            "\n",
            "*************************************************************************************\n",
            "\n",
            "Accuracy obtained by MLP Classifier is : 0.7752057613168725\n",
            "F1 Score obtained by MLP Classifier is : 0.7418783225044299\n",
            "Precision obtained by MLP Classifier is : 0.871012482662968\n",
            "Recall obtained by MLP Classifier is : 0.6460905349794238\n",
            "AUC score obtained by MLP Classifier is : 0.7752057613168725\n",
            "\n",
            "*************************************************************************************\n",
            "\n",
            "Type-1 Error obtained by MLP Classifier is : 0.35390946502057613\n",
            "Type-2 Error obtained by MLP Classifier is : 0.1289875173370319\n",
            "\n",
            "*************************************************************************************\n",
            "\n",
            "ROC Curve for MLP Classifier:\n",
            "\n",
            "\n",
            "*************************************************************************************\n",
            "\n"
          ]
        },
        {
          "name": "stderr",
          "output_type": "stream",
          "text": [
            "/usr/local/lib/python3.7/dist-packages/sklearn/utils/deprecation.py:87: FutureWarning: Function plot_roc_curve is deprecated; Function :func:`plot_roc_curve` is deprecated in 1.0 and will be removed in 1.2. Use one of the class methods: :meth:`sklearn.metric.RocCurveDisplay.from_predictions` or :meth:`sklearn.metric.RocCurveDisplay.from_estimator`.\n",
            "  warnings.warn(msg, category=FutureWarning)\n"
          ]
        },
        {
          "data": {
            "image/png": "[encoded data removed]",
            "text/plain": [
              "<Figure size 432x288 with 1 Axes>"
            ]
          },
          "metadata": {},
          "output_type": "display_data"
        }
      ],
      "source": [
        "mlp_test_predictions = mlp_classifier.predict(X_test)  \n",
        "print(\"\\n*************************************************************************************\\n\")\n",
        "\n",
        "# Evaluating the performance on the test dataset\n",
        "print(\"Accuracy obtained by MLP Classifier is :\", accuracy(y_test, mlp_test_predictions)) \n",
        "print(\"F1 Score obtained by MLP Classifier is :\", f1score(y_test, mlp_test_predictions)) \n",
        "print(\"Precision obtained by MLP Classifier is :\", precision(y_test, mlp_test_predictions))  \n",
        "print(\"Recall obtained by MLP Classifier is :\", recall(y_test, mlp_test_predictions)) \n",
        "print(\"AUC score obtained by MLP Classifier is :\", roc_auc_score(y_test, mlp_test_predictions)) \n",
        "print(\"\\n*************************************************************************************\\n\") \n",
        "\n",
        "\n",
        "# Calculating the Type-1 Error and Type-2 Errors\n",
        "print(\"Type-1 Error obtained by MLP Classifier is :\", cm(y_test, mlp_test_predictions)[1][0]/(cm(y_test, mlp_test_predictions)[1][0] + cm(y_test, mlp_test_predictions)[1][1]))\n",
        "print(\"Type-2 Error obtained by MLP Classifier is :\", cm(y_test, mlp_test_predictions)[0][1]/(cm(y_test, mlp_test_predictions)[1][1] + cm(y_test, mlp_test_predictions)[0][1]))\n",
        "print(\"\\n*************************************************************************************\\n\")\n",
        "\n",
        "\n",
        "# Plotting ROC curve for the model\n",
        "print(\"ROC Curve for MLP Classifier:\\n\")\n",
        "plot_roc_curve(mlp_classifier, X_test, y_test) \n",
        "print(\"\\n*************************************************************************************\\n\")"
      ]
    },
    {
      "cell_type": "markdown",
      "source": [
        "## **Comparision of ROC scores and Type 2 errors**\n"
      ],
      "metadata": {
        "id": "XPcEd9GM1QOC"
      }
    },
    {
      "cell_type": "code",
      "source": [
        "models = ['RFC','SVC','XGBoost','MLP','KNN']\n",
        "roc_auc_scores = [0.9524490959485625,0,0.96053089618603,0.9422828686533407,0.947324820629195]\n",
        "type2_errors = [0.15044814340588988,0.0851528384279476,0.14702233250620347,0.15958102279728897,0.1873508353221957]\n",
        "plt.figure(figsize=(5,5))\n",
        "sns.set(rc={'figure.figsize':(11,4)})  \n",
        "sns.barplot(x=models, y=roc_auc_scores)\n",
        "plt.title(\"roc auc scores\")\n",
        "plt.show()\n",
        "plt.figure(figsize=(5,5))\n",
        "\n",
        "sns.barplot(x=models, y=type2_errors)\n",
        "plt.title(\"type2 errors\")\n",
        "plt.show()"
      ],
      "metadata": {
        "colab": {
          "base_uri": "https://localhost:8080/",
          "height": 659
        },
        "id": "K64f_cBstzRa",
        "outputId": "6d1a3de4-b24e-4fd8-dae7-34566348d82a"
      },
      "execution_count": null,
      "outputs": [
        {
          "output_type": "display_data",
          "data": {
            "text/plain": [
              "<Figure size 360x360 with 1 Axes>"
            ],
            "image/png": "[encoded data removed]"
          },
          "metadata": {}
        },
        {
          "output_type": "display_data",
          "data": {
            "text/plain": [
              "<Figure size 360x360 with 1 Axes>"
            ],
            "image/png": "[encoded data removed]"
          },
          "metadata": {}
        }
      ]
    },
    {
      "cell_type": "markdown",
      "metadata": {
        "id": "qtIHTeQ1Ew-N"
      },
      "source": [
        "## **Deploying the model using Flask and Pickle**"
      ]
    },
    {
      "cell_type": "code",
      "execution_count": 27,
      "metadata": {
        "id": "SJfSZK2V2KfS"
      },
      "outputs": [],
      "source": [
        "# Pickle library for integration with frontend\n",
        "import pickle"
      ]
    },
    {
      "cell_type": "code",
      "execution_count": 32,
      "metadata": {
        "id": "AXzfJxSf2LBQ"
      },
      "outputs": [],
      "source": [
        "# Saving the models \n",
        "saved_data = {\"model\":xgb_classifier}\n",
        "with open('saved_steps.pkl', 'wb') as file:\n",
        "    pickle.dump(saved_data, file)"
      ]
    },
    {
      "cell_type": "code",
      "execution_count": 33,
      "metadata": {
        "id": "kfegt27OFXz0"
      },
      "outputs": [],
      "source": [
        "# Loading the models\n",
        "with open('saved_steps.pkl', 'rb') as file:\n",
        "    data = pickle.load(file)\n"
      ]
    },
    {
      "cell_type": "code",
      "execution_count": 34,
      "metadata": {
        "colab": {
          "base_uri": "https://localhost:8080/",
          "height": 17
        },
        "id": "deT_lTvMFaQa",
        "outputId": "14da7710-347d-407f-a061-01be22bc0d40"
      },
      "outputs": [
        {
          "output_type": "display_data",
          "data": {
            "text/plain": [
              "<IPython.core.display.Javascript object>"
            ],
            "application/javascript": [
              "\n",
              "    async function download(id, filename, size) {\n",
              "      if (!google.colab.kernel.accessAllowed) {\n",
              "        return;\n",
              "      }\n",
              "      const div = document.createElement('div');\n",
              "      const label = document.createElement('label');\n",
              "      label.textContent = `Downloading \"${filename}\": `;\n",
              "      div.appendChild(label);\n",
              "      const progress = document.createElement('progress');\n",
              "      progress.max = size;\n",
              "      div.appendChild(progress);\n",
              "      document.body.appendChild(div);\n",
              "\n",
              "      const buffers = [];\n",
              "      let downloaded = 0;\n",
              "\n",
              "      const channel = await google.colab.kernel.comms.open(id);\n",
              "      // Send a message to notify the kernel that we're ready.\n",
              "      channel.send({})\n",
              "\n",
              "      for await (const message of channel.messages) {\n",
              "        // Send a message to notify the kernel that we're ready.\n",
              "        channel.send({})\n",
              "        if (message.buffers) {\n",
              "          for (const buffer of message.buffers) {\n",
              "            buffers.push(buffer);\n",
              "            downloaded += buffer.byteLength;\n",
              "            progress.value = downloaded;\n",
              "          }\n",
              "        }\n",
              "      }\n",
              "      const blob = new Blob(buffers, {type: 'application/binary'});\n",
              "      const a = document.createElement('a');\n",
              "      a.href = window.URL.createObjectURL(blob);\n",
              "      a.download = filename;\n",
              "      div.appendChild(a);\n",
              "      a.click();\n",
              "      div.remove();\n",
              "    }\n",
              "  "
            ]
          },
          "metadata": {}
        },
        {
          "output_type": "display_data",
          "data": {
            "text/plain": [
              "<IPython.core.display.Javascript object>"
            ],
            "application/javascript": [
              "download(\"download_4d52f95d-813d-4f34-a792-2787b4070326\", \"saved_steps.pkl\", 564508)"
            ]
          },
          "metadata": {}
        }
      ],
      "source": [
        "# Save the pkl file\n",
        "from google.colab import files\n",
        "files.download('saved_steps.pkl')"
      ]
    }
  ],
  "metadata": {
    "colab": {
      "name": "main_project_final_copy.ipynb",
      "provenance": []
    },
    "kernelspec": {
      "display_name": "Python 3",
      "name": "python3"
    },
    "language_info": {
      "name": "python"
    }
  },
  "nbformat": 4,
  "nbformat_minor": 0
}